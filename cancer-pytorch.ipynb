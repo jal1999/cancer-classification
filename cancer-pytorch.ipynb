{
 "cells": [
  {
   "cell_type": "code",
   "execution_count": 1285,
   "id": "e9bd83e6",
   "metadata": {},
   "outputs": [],
   "source": [
    "import torch\n",
    "from torch import nn\n",
    "import pandas as pd\n",
    "import numpy as np\n",
    "import sklearn\n",
    "from sklearn import datasets\n",
    "import matplotlib.pyplot as plt\n",
    "from collections import Counter"
   ]
  },
  {
   "cell_type": "markdown",
   "id": "1a549411",
   "metadata": {},
   "source": [
    "# Importing the dataset"
   ]
  },
  {
   "cell_type": "code",
   "execution_count": 1286,
   "id": "4d7deed5",
   "metadata": {},
   "outputs": [],
   "source": [
    "df = pd.read_csv('data.csv')\n",
    "df.drop('Unnamed: 32', axis=1, inplace=True)"
   ]
  },
  {
   "cell_type": "code",
   "execution_count": 1287,
   "id": "38d3f445",
   "metadata": {},
   "outputs": [
    {
     "name": "stdout",
     "output_type": "stream",
     "text": [
      "         id diagnosis  radius_mean  texture_mean  perimeter_mean  area_mean  \\\n",
      "0    842302         M        17.99         10.38          122.80     1001.0   \n",
      "1    842517         M        20.57         17.77          132.90     1326.0   \n",
      "2  84300903         M        19.69         21.25          130.00     1203.0   \n",
      "3  84348301         M        11.42         20.38           77.58      386.1   \n",
      "4  84358402         M        20.29         14.34          135.10     1297.0   \n",
      "\n",
      "   smoothness_mean  compactness_mean  concavity_mean  concave points_mean  \\\n",
      "0          0.11840           0.27760          0.3001              0.14710   \n",
      "1          0.08474           0.07864          0.0869              0.07017   \n",
      "2          0.10960           0.15990          0.1974              0.12790   \n",
      "3          0.14250           0.28390          0.2414              0.10520   \n",
      "4          0.10030           0.13280          0.1980              0.10430   \n",
      "\n",
      "   ...  radius_worst  texture_worst  perimeter_worst  area_worst  \\\n",
      "0  ...         25.38          17.33           184.60      2019.0   \n",
      "1  ...         24.99          23.41           158.80      1956.0   \n",
      "2  ...         23.57          25.53           152.50      1709.0   \n",
      "3  ...         14.91          26.50            98.87       567.7   \n",
      "4  ...         22.54          16.67           152.20      1575.0   \n",
      "\n",
      "   smoothness_worst  compactness_worst  concavity_worst  concave points_worst  \\\n",
      "0            0.1622             0.6656           0.7119                0.2654   \n",
      "1            0.1238             0.1866           0.2416                0.1860   \n",
      "2            0.1444             0.4245           0.4504                0.2430   \n",
      "3            0.2098             0.8663           0.6869                0.2575   \n",
      "4            0.1374             0.2050           0.4000                0.1625   \n",
      "\n",
      "   symmetry_worst  fractal_dimension_worst  \n",
      "0          0.4601                  0.11890  \n",
      "1          0.2750                  0.08902  \n",
      "2          0.3613                  0.08758  \n",
      "3          0.6638                  0.17300  \n",
      "4          0.2364                  0.07678  \n",
      "\n",
      "[5 rows x 32 columns]\n"
     ]
    }
   ],
   "source": [
    "print(df.head())"
   ]
  },
  {
   "cell_type": "markdown",
   "id": "8d8fb632",
   "metadata": {},
   "source": [
    "# Preprocessing\n",
    "\n",
    "* Convert into numpy arrays\n",
    "* Scale features\n",
    "* Separate labels from features\n",
    "* Split into train / test sets\n",
    "* Convert to tensors"
   ]
  },
  {
   "cell_type": "markdown",
   "id": "c3e9f40e",
   "metadata": {},
   "source": [
    "## Convert to numpy"
   ]
  },
  {
   "cell_type": "code",
   "execution_count": 1288,
   "id": "e93a37ab",
   "metadata": {},
   "outputs": [],
   "source": [
    "data = df.to_numpy()"
   ]
  },
  {
   "cell_type": "markdown",
   "id": "56dc65df",
   "metadata": {},
   "source": [
    "## Separate labels from features"
   ]
  },
  {
   "cell_type": "code",
   "execution_count": 1289,
   "id": "8c88cbcc",
   "metadata": {},
   "outputs": [],
   "source": [
    "labels = data[:, 1].reshape(569, 1)\n",
    "train_y, test_y = labels[:284, 0], labels[284:568, 0]\n",
    "z, r = labels[:284, 0], labels[284:568, 0]\n",
    "data = data[:, 2:32]"
   ]
  },
  {
   "cell_type": "markdown",
   "id": "73ff60eb",
   "metadata": {},
   "source": [
    "## Convert letter labels into digits"
   ]
  },
  {
   "cell_type": "code",
   "execution_count": 1290,
   "id": "46bd4197",
   "metadata": {},
   "outputs": [],
   "source": [
    "for i in range(len(train_y)):\n",
    "        if train_y[i] == 'M':\n",
    "            train_y[i] = 1\n",
    "        else:\n",
    "            train_y[i] = 0\n",
    "\n",
    "for i in range(len(train_y)):\n",
    "        if test_y[i] == 'M':\n",
    "            test_y[i] = 1\n",
    "        else:\n",
    "            test_y[i] = 0"
   ]
  },
  {
   "cell_type": "markdown",
   "id": "0315641d",
   "metadata": {},
   "source": [
    "## Check out distribution of labels"
   ]
  },
  {
   "cell_type": "code",
   "execution_count": 1291,
   "id": "0e4e1d1e",
   "metadata": {},
   "outputs": [
    {
     "data": {
      "text/plain": [
       "<BarContainer object of 2 artists>"
      ]
     },
     "execution_count": 1291,
     "metadata": {},
     "output_type": "execute_result"
    },
    {
     "data": {
      "image/png": "[encoded data removed]",
      "text/plain": [
       "<Figure size 432x288 with 1 Axes>"
      ]
     },
     "metadata": {
      "needs_background": "light"
     },
     "output_type": "display_data"
    }
   ],
   "source": [
    "l = list()\n",
    "b = list()\n",
    "for num in train_y:\n",
    "    if num == 1:\n",
    "        l.append(num)\n",
    "    else:\n",
    "        b.append(num)\n",
    "labels = ['Malignant', 'Benign']\n",
    "colors = ['tab:cyan', 'tab:purple']\n",
    "plt.bar(['Malignant', 'Benign'], [len(l), len(b)], label=labels, color=colors)\n",
    "\n"
   ]
  },
  {
   "cell_type": "markdown",
   "id": "d5950faf",
   "metadata": {},
   "source": [
    "# Convert label arrays to tensors"
   ]
  },
  {
   "cell_type": "code",
   "execution_count": 1292,
   "id": "94e7b3f2",
   "metadata": {},
   "outputs": [],
   "source": [
    "train_y = torch.from_numpy(train_y.astype(np.float32)).reshape(train_y.shape[0], 1)\n",
    "test_y = torch.from_numpy(test_y.astype(np.float32)).reshape(test_y.shape[0], 1)"
   ]
  },
  {
   "cell_type": "markdown",
   "id": "1de4e411",
   "metadata": {},
   "source": [
    "# Plot data as scatterplot, with y-axis being its features summed"
   ]
  },
  {
   "cell_type": "code",
   "execution_count": 1293,
   "id": "fbe97063",
   "metadata": {},
   "outputs": [
    {
     "data": {
      "text/plain": [
       "Text(0, 0.5, 'Sum of features')"
      ]
     },
     "execution_count": 1293,
     "metadata": {},
     "output_type": "execute_result"
    },
    {
     "data": {
      "image/png": "[encoded data removed]",
      "text/plain": [
       "<Figure size 432x288 with 1 Axes>"
      ]
     },
     "metadata": {
      "needs_background": "light"
     },
     "output_type": "display_data"
    }
   ],
   "source": [
    "m = list()\n",
    "b = list()\n",
    "for example, label in zip(data[:284], train_y):\n",
    "    val = np.sum(example)\n",
    "    if label == 1:\n",
    "        m.append(val)\n",
    "    else:\n",
    "        b.append(val)\n",
    "x = np.linspace(0, 300, len(m))\n",
    "colors = ['blue']\n",
    "plt.scatter(x, m, color = colors)\n",
    "x = np.linspace(0, 300, len(b))\n",
    "colors = ['red']\n",
    "plt.scatter(x, b, color=colors)\n",
    "plt.xlabel('Index in Array')\n",
    "plt.ylabel('Sum of features')"
   ]
  },
  {
   "cell_type": "markdown",
   "id": "ad414fd5",
   "metadata": {},
   "source": [
    "## Perform feature scaling"
   ]
  },
  {
   "cell_type": "code",
   "execution_count": 1294,
   "id": "bbe11c02",
   "metadata": {},
   "outputs": [],
   "source": [
    "scaler = sklearn.preprocessing.StandardScaler()\n",
    "data = scaler.fit_transform(data)"
   ]
  },
  {
   "cell_type": "markdown",
   "id": "292a2c15",
   "metadata": {},
   "source": [
    "## Separate remaining features into train / test sets & convert to tensors"
   ]
  },
  {
   "cell_type": "code",
   "execution_count": 1295,
   "id": "07df021c",
   "metadata": {},
   "outputs": [],
   "source": [
    "train_feats = torch.from_numpy(data[:284].astype(np.float32))\n",
    "test_feats = torch.from_numpy(data[284:568].astype(np.float32))"
   ]
  },
  {
   "cell_type": "markdown",
   "id": "acd3ed8e",
   "metadata": {},
   "source": [
    "# Create logistic regression model to following specs:\n",
    "\n",
    "* The only layers will be the input and output layers\n",
    "* The two layers are fully connected\n",
    "* Output is computed with the sigmoid function"
   ]
  },
  {
   "cell_type": "code",
   "execution_count": 1296,
   "id": "d5226e0e",
   "metadata": {},
   "outputs": [],
   "source": [
    "class LogisticRegression(nn.Module):\n",
    "    def __init__(self, in_dim):\n",
    "        super(LogisticRegression, self).__init__()\n",
    "        self.output = nn.Linear(30, 1)\n",
    "        self.sigmoid = nn.Sigmoid()\n",
    "\n",
    "    def forward(self, x):\n",
    "        y = self.output(x)\n",
    "        y = self.sigmoid(y)\n",
    "        return y"
   ]
  },
  {
   "cell_type": "markdown",
   "id": "70f69a83",
   "metadata": {},
   "source": [
    "# Initialize model along with its loss function and optimizer"
   ]
  },
  {
   "cell_type": "code",
   "execution_count": 1297,
   "id": "2b0016e0",
   "metadata": {},
   "outputs": [],
   "source": [
    "m = LogisticRegression(30)\n",
    "criterion = torch.nn.BCELoss()\n",
    "optimizer = torch.optim.Adam(m.parameters(), lr=.01)"
   ]
  },
  {
   "cell_type": "markdown",
   "id": "493d9e14",
   "metadata": {},
   "source": [
    "# Minimize cost function to find optimal weights"
   ]
  },
  {
   "cell_type": "code",
   "execution_count": 1298,
   "id": "872e3bb2",
   "metadata": {},
   "outputs": [
    {
     "name": "stdout",
     "output_type": "stream",
     "text": [
      "epoch #99, loss: 0.08302862197160721, weight: Parameter containing:\n",
      "tensor([[ 0.2156,  0.6095,  0.5609,  0.3155,  0.1850,  0.3330,  0.4414,  0.4686,\n",
      "         -0.0952, -0.6023,  0.5136, -0.2813,  0.2876,  0.5714, -0.0016, -0.1794,\n",
      "         -0.2578,  0.3646, -0.3683, -0.3365,  0.3843,  0.6343,  0.3648,  0.3071,\n",
      "          0.5175,  0.3203,  0.2626,  0.5169,  0.5453,  0.1697]],\n",
      "       requires_grad=True)\n",
      "epoch #199, loss: 0.06158986687660217, weight: Parameter containing:\n",
      "tensor([[ 0.3369,  0.8285,  0.6799,  0.4434,  0.0869,  0.2617,  0.5564,  0.5445,\n",
      "         -0.1093, -0.7841,  0.6770, -0.4651,  0.4400,  0.7347,  0.1430, -0.5459,\n",
      "         -0.1384,  0.4725, -0.4084, -0.5262,  0.5329,  0.8916,  0.5086,  0.4609,\n",
      "          0.7328,  0.3382,  0.4060,  0.6471,  0.7858,  0.3639]],\n",
      "       requires_grad=True)\n",
      "epoch #299, loss: 0.05228814482688904, weight: Parameter containing:\n",
      "tensor([[ 0.4275,  0.9686,  0.7691,  0.5396,  0.0344,  0.1868,  0.6387,  0.5880,\n",
      "         -0.0730, -0.9291,  0.8083, -0.6232,  0.5676,  0.8719,  0.2243, -0.8044,\n",
      "         -0.0412,  0.5573, -0.4464, -0.6675,  0.6487,  1.0922,  0.6212,  0.5834,\n",
      "          0.8878,  0.3348,  0.5048,  0.7450,  0.9454,  0.5450]],\n",
      "       requires_grad=True)\n",
      "epoch #399, loss: 0.04678754135966301, weight: Parameter containing:\n",
      "tensor([[ 0.5038,  1.0711,  0.8444,  0.6208,  0.0089,  0.1123,  0.7007,  0.6137,\n",
      "         -0.0273, -1.0618,  0.9164, -0.7646,  0.6751,  0.9936,  0.2770, -0.9867,\n",
      "          0.0250,  0.6263, -0.4805, -0.7809,  0.7500,  1.2727,  0.7196,  0.6918,\n",
      "          1.0178,  0.3233,  0.5758,  0.8279,  1.0590,  0.7272]],\n",
      "       requires_grad=True)\n",
      "epoch #499, loss: 0.042952101677656174, weight: Parameter containing:\n",
      "tensor([[ 0.5714,  1.1509,  0.9110,  0.6926,  0.0026,  0.0376,  0.7500,  0.6274,\n",
      "          0.0174, -1.1878,  1.0080, -0.8966,  0.7673,  1.1052,  0.3130, -1.1250,\n",
      "          0.0737,  0.6878, -0.5059, -0.8793,  0.8433,  1.4442,  0.8101,  0.7924,\n",
      "          1.1340,  0.3046,  0.6274,  0.9025,  1.1427,  0.9129]],\n",
      "       requires_grad=True)\n",
      "epoch #599, loss: 0.03999548405408859, weight: Parameter containing:\n",
      "tensor([[ 0.6329,  1.2151,  0.9716,  0.7579,  0.0108, -0.0376,  0.7916,  0.6326,\n",
      "          0.0573, -1.3081,  1.0880, -1.0217,  0.8484,  1.2100,  0.3368, -1.2390,\n",
      "          0.1149,  0.7474, -0.5211, -0.9702,  0.9318,  1.6109,  0.8959,  0.8885,\n",
      "          1.2407,  0.2789,  0.6646,  0.9721,  1.2051,  1.1038]],\n",
      "       requires_grad=True)\n",
      "epoch #699, loss: 0.03756339102983475, weight: Parameter containing:\n",
      "tensor([[ 0.6902,  1.2676,  1.0280,  0.8186,  0.0301, -0.1128,  0.8285,  0.6312,\n",
      "          0.0916, -1.4233,  1.1596, -1.1409,  0.9212,  1.3102,  0.3511, -1.3392,\n",
      "          0.1535,  0.8076, -0.5262, -1.0574,  1.0178,  1.7746,  0.9789,  0.9818,\n",
      "          1.3401,  0.2467,  0.6905,  1.0387,  1.2515,  1.3008]],\n",
      "       requires_grad=True)\n",
      "epoch #799, loss: 0.035473160445690155, weight: Parameter containing:\n",
      "tensor([[ 0.7444,  1.3107,  1.0812,  0.8758,  0.0579, -0.1877,  0.8625,  0.6246,\n",
      "          0.1203, -1.5337,  1.2247, -1.2548,  0.9876,  1.4070,  0.3579, -1.4310,\n",
      "          0.1916,  0.8690, -0.5220, -1.1434,  1.1023,  1.9362,  1.0605,  1.0737,\n",
      "          1.4336,  0.2086,  0.7071,  1.1033,  1.2854,  1.5043]],\n",
      "       requires_grad=True)\n",
      "epoch #899, loss: 0.03362159803509712, weight: Parameter containing:\n",
      "tensor([[ 0.7964,  1.3460,  1.1321,  0.9303,  0.0924, -0.2622,  0.8948,  0.6136,\n",
      "          0.1444, -1.6397,  1.2850, -1.3640,  1.0489,  1.5014,  0.3592, -1.5171,\n",
      "          0.2302,  0.9318, -0.5095, -1.2297,  1.1864,  2.0964,  1.1414,  1.1647,\n",
      "          1.5221,  0.1651,  0.7159,  1.1665,  1.3090,  1.7141]],\n",
      "       requires_grad=True)\n",
      "epoch #999, loss: 0.03194662183523178, weight: Parameter containing:\n",
      "tensor([[ 0.8465,  1.3749,  1.1812,  0.9828,  0.1320, -0.3361,  0.9263,  0.5989,\n",
      "          0.1647, -1.7420,  1.3414, -1.4691,  1.1063,  1.5939,  0.3566, -1.5989,\n",
      "          0.2699,  0.9955, -0.4900, -1.3174,  1.2706,  2.2557,  1.2221,  1.2556,\n",
      "          1.6064,  0.1169,  0.7178,  1.2288,  1.3243,  1.9297]],\n",
      "       requires_grad=True)\n",
      "epoch #1099, loss: 0.03040911816060543, weight: Parameter containing:\n",
      "tensor([[ 0.8952,  1.3983,  1.2287,  1.0334,  0.1757, -0.4092,  0.9574,  0.5807,\n",
      "          0.1824, -1.8407,  1.3946, -1.5705,  1.1604,  1.6850,  0.3512, -1.6774,\n",
      "          0.3110,  1.0597, -0.4648, -1.4073,  1.3552,  2.4144,  1.3032,  1.3464,\n",
      "          1.6872,  0.0646,  0.7140,  1.2905,  1.3329,  2.1503]],\n",
      "       requires_grad=True)\n",
      "epoch #1199, loss: 0.028983479365706444, weight: Parameter containing:\n",
      "tensor([[ 0.9427,  1.4172,  1.2749,  1.0826,  0.2225, -0.4817,  0.9885,  0.5594,\n",
      "          0.1983, -1.9363,  1.4454, -1.6689,  1.2118,  1.7750,  0.3441, -1.7529,\n",
      "          0.3537,  1.1239, -0.4350, -1.5001,  1.4405,  2.5729,  1.3847,  1.4375,\n",
      "          1.7647,  0.0085,  0.7052,  1.3518,  1.3358,  2.3751]],\n",
      "       requires_grad=True)\n",
      "epoch #1299, loss: 0.027652429416775703, weight: Parameter containing:\n",
      "tensor([[ 0.9892,  1.4325,  1.3199,  1.1304,  0.2718, -0.5533,  1.0200,  0.5353,\n",
      "          0.2134, -2.0288,  1.4942, -1.7649,  1.2609,  1.8639,  0.3362, -1.8254,\n",
      "          0.3980,  1.1879, -0.4019, -1.5964,  1.5266,  2.7315,  1.4667,  1.5288,\n",
      "          1.8393, -0.0506,  0.6920,  1.4129,  1.3344,  2.6032]],\n",
      "       requires_grad=True)\n",
      "epoch #1399, loss: 0.026403799653053284, weight: Parameter containing:\n",
      "tensor([[ 1.0348,  1.4448,  1.3639,  1.1770,  0.3230, -0.6241,  1.0520,  0.5085,\n",
      "          0.2283, -2.1184,  1.5414, -1.8588,  1.3083,  1.9521,  0.3281, -1.8952,\n",
      "          0.4437,  1.2513, -0.3665, -1.6964,  1.6137,  2.8904,  1.5494,  1.6205,\n",
      "          1.9111, -0.1123,  0.6751,  1.4739,  1.3296,  2.8338]],\n",
      "       requires_grad=True)\n",
      "epoch #1499, loss: 0.025228695943951607, weight: Parameter containing:\n",
      "tensor([[ 1.0795,  1.4547,  1.4068,  1.2224,  0.3757, -0.6940,  1.0846,  0.4794,\n",
      "          0.2437, -2.2052,  1.5876, -1.9513,  1.3541,  2.0395,  0.3205, -1.9623,\n",
      "          0.4908,  1.3142, -0.3297, -1.8004,  1.7017,  3.0499,  1.6327,  1.7125,\n",
      "          1.9803, -0.1761,  0.6550,  1.5350,  1.3222,  3.0660]],\n",
      "       requires_grad=True)\n",
      "epoch #1599, loss: 0.024120278656482697, weight: Parameter containing:\n",
      "tensor([[ 1.1235,  1.4629,  1.4488,  1.2666,  0.4296, -0.7631,  1.1179,  0.4480,\n",
      "          0.2599, -2.2891,  1.6329, -2.0427,  1.3986,  2.1262,  0.3137, -2.0265,\n",
      "          0.5392,  1.3762, -0.2925, -1.9087,  1.7908,  3.2102,  1.7167,  1.8048,\n",
      "          2.0469, -0.2417,  0.6322,  1.5962,  1.3130,  3.2991]],\n",
      "       requires_grad=True)\n",
      "epoch #1699, loss: 0.023072998970746994, weight: Parameter containing:\n",
      "tensor([[ 1.1668,  1.4698,  1.4899,  1.3099,  0.4843, -0.8313,  1.1522,  0.4145,\n",
      "          0.2774, -2.3703,  1.6779, -2.1334,  1.4422,  2.2125,  0.3081, -2.0879,\n",
      "          0.5885,  1.4375, -0.2556, -2.0214,  1.8809,  3.3714,  1.8012,  1.8974,\n",
      "          2.1111, -0.3087,  0.6070,  1.6577,  1.3026,  3.5325]],\n",
      "       requires_grad=True)\n",
      "epoch #1799, loss: 0.02208215929567814, weight: Parameter containing:\n",
      "tensor([[ 1.2094,  1.4756,  1.5300,  1.3521,  0.5396, -0.8987,  1.1874,  0.3791,\n",
      "          0.2963, -2.4486,  1.7226, -2.2238,  1.4848,  2.2982,  0.3040, -2.1464,\n",
      "          0.6387,  1.4978, -0.2195, -2.1384,  1.9720,  3.5336,  1.8863,  1.9902,\n",
      "          2.1728, -0.3767,  0.5798,  1.7196,  1.2916,  3.7657]],\n",
      "       requires_grad=True)\n",
      "epoch #1899, loss: 0.021143583580851555, weight: Parameter containing:\n",
      "tensor([[ 1.2513,  1.4807,  1.5693,  1.3933,  0.5954, -0.9653,  1.2236,  0.3419,\n",
      "          0.3169, -2.5241,  1.7674, -2.3140,  1.5267,  2.3834,  0.3015, -2.2020,\n",
      "          0.6896,  1.5573, -0.1847, -2.2599,  2.0641,  3.6969,  1.9718,  2.0833,\n",
      "          2.2323, -0.4456,  0.5509,  1.7818,  1.2804,  3.9982]],\n",
      "       requires_grad=True)\n",
      "epoch #1999, loss: 0.020253514871001244, weight: Parameter containing:\n",
      "tensor([[ 1.2926,  1.4854,  1.6077,  1.4335,  0.6516, -1.0312,  1.2610,  0.3030,\n",
      "          0.3392, -2.5967,  1.8125, -2.4044,  1.5679,  2.4682,  0.3007, -2.2547,\n",
      "          0.7410,  1.6159, -0.1516, -2.3857,  2.1572,  3.8615,  2.0578,  2.1766,\n",
      "          2.2895, -0.5151,  0.5205,  1.8445,  1.2692,  4.2297]],\n",
      "       requires_grad=True)\n"
     ]
    }
   ],
   "source": [
    "losses = list()\n",
    "epochs = 2000\n",
    "for i in range(epochs):\n",
    "    output = m(train_feats)\n",
    "    loss = criterion(output, train_y)\n",
    "    if (i + 1) % 70 == 0:\n",
    "        losses.append(loss.item())\n",
    "    if (i + 1) % 100 == 0 or i == epochs - 1:\n",
    "        print(f'epoch #{i}, loss: {loss}, weight: {m.output.weight}')\n",
    "    loss.backward()\n",
    "    optimizer.step()\n",
    "    optimizer.zero_grad()"
   ]
  },
  {
   "cell_type": "markdown",
   "id": "5936ae26",
   "metadata": {},
   "source": [
    "# Plot loss through all epochs"
   ]
  },
  {
   "cell_type": "code",
   "execution_count": 1299,
   "id": "7c7974bb",
   "metadata": {},
   "outputs": [
    {
     "data": {
      "image/png": "[encoded data removed]",
      "text/plain": [
       "<Figure size 432x288 with 1 Axes>"
      ]
     },
     "metadata": {
      "needs_background": "light"
     },
     "output_type": "display_data"
    }
   ],
   "source": [
    "from scipy.interpolate import make_interp_spline, BSpline\n",
    "x = np.linspace(0, 300, 28)\n",
    "y = losses\n",
    "x_new = np.linspace(x.min(), x.max(), 400)\n",
    "spl = make_interp_spline(x, y)\n",
    "y_smooth = spl(x_new)\n",
    "plt.plot(x_new, y_smooth)\n",
    "plt.xlabel('Epoch')\n",
    "plt.ylabel('BCE Loss')\n",
    "plt.show()"
   ]
  },
  {
   "cell_type": "markdown",
   "id": "0238b733",
   "metadata": {},
   "source": [
    "# Test accuracy against test set"
   ]
  },
  {
   "cell_type": "code",
   "execution_count": 1300,
   "id": "58d1eef4",
   "metadata": {},
   "outputs": [
    {
     "name": "stdout",
     "output_type": "stream",
     "text": [
      "Accuracy: 96.5%\n"
     ]
    }
   ],
   "source": [
    "with torch.no_grad():\n",
    "    y_pred=m(test_feats)\n",
    "    y_pred_class=y_pred.round()\n",
    "    accuracy=((y_pred_class == test_y).sum()) / 284\n",
    "    print(f'Accuracy: {round(accuracy.item() * 100, 1)}%')"
   ]
  },
  {
   "cell_type": "markdown",
   "id": "0f35b042",
   "metadata": {},
   "source": [
    "# Plot decision boundary"
   ]
  },
  {
   "cell_type": "code",
   "execution_count": 1301,
   "id": "31ba4709",
   "metadata": {},
   "outputs": [
    {
     "name": "stdout",
     "output_type": "stream",
     "text": [
      "284\n"
     ]
    },
    {
     "data": {
      "text/plain": [
       "<matplotlib.legend.Legend at 0x7fbd899d7580>"
      ]
     },
     "execution_count": 1301,
     "metadata": {},
     "output_type": "execute_result"
    },
    {
     "data": {
      "image/png": "[encoded data removed]",
      "text/plain": [
       "<Figure size 432x288 with 1 Axes>"
      ]
     },
     "metadata": {
      "needs_background": "light"
     },
     "output_type": "display_data"
    }
   ],
   "source": [
    "s = list()\n",
    "b = list()\n",
    "for example, label in zip(data[:284], train_y):\n",
    "    val = np.sum(example)\n",
    "    if label == 1:\n",
    "        s.append(val)\n",
    "    else:\n",
    "        b.append(val)\n",
    "x = np.linspace(0, 300, len(s))\n",
    "print(len(r))\n",
    "colors = ['tab:cyan']\n",
    "plt.scatter(x, s, color = colors, label='Malignant')\n",
    "x = np.linspace(0, 300, len(b))\n",
    "colors = ['tab:purple']\n",
    "n = (torch.sum(m.output.weight) - m.output.weight[0] + m.output.weight[0]) / 30\n",
    "c = m.output.weight[0].detach().numpy()\n",
    "plt.scatter(x, b, color=colors, label='Benign')\n",
    "x = np.linspace(0, 300, 30)\n",
    "plt.plot(x, (n.detach().numpy() + m.output.bias[0].detach().numpy()), color = 'tab:orange', label='Decision Boundary')\n",
    "plt.xlabel('Index in Array')\n",
    "plt.ylabel('Sum of features')\n",
    "plt.legend()"
   ]
  }
 ],
 "metadata": {
  "kernelspec": {
   "display_name": "Python 3 (ipykernel)",
   "language": "python",
   "name": "python3"
  },
  "language_info": {
   "codemirror_mode": {
    "name": "ipython",
    "version": 3
   },
   "file_extension": ".py",
   "mimetype": "text/x-python",
   "name": "python",
   "nbconvert_exporter": "python",
   "pygments_lexer": "ipython3",
   "version": "3.9.12"
  }
 },
 "nbformat": 4,
 "nbformat_minor": 5
}

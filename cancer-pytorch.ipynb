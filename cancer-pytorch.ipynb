{
 "cells": [
  {
   "cell_type": "code",
   "execution_count": 960,
   "id": "e9bd83e6",
   "metadata": {},
   "outputs": [],
   "source": [
    "import torch\n",
    "from torch import nn\n",
    "import pandas as pd\n",
    "import numpy as np\n",
    "import sklearn\n",
    "from sklearn import datasets\n",
    "import matplotlib.pyplot as plt\n",
    "from collections import Counter"
   ]
  },
  {
   "cell_type": "markdown",
   "id": "1a549411",
   "metadata": {},
   "source": [
    "# Importing the dataset"
   ]
  },
  {
   "cell_type": "code",
   "execution_count": 961,
   "id": "4d7deed5",
   "metadata": {},
   "outputs": [],
   "source": [
    "df = pd.read_csv('data.csv')\n",
    "df.drop('Unnamed: 32', axis=1, inplace=True)"
   ]
  },
  {
   "cell_type": "code",
   "execution_count": 962,
   "id": "38d3f445",
   "metadata": {},
   "outputs": [
    {
     "name": "stdout",
     "output_type": "stream",
     "text": [
      "         id diagnosis  radius_mean  texture_mean  perimeter_mean  area_mean  \\\n",
      "0    842302         M        17.99         10.38          122.80     1001.0   \n",
      "1    842517         M        20.57         17.77          132.90     1326.0   \n",
      "2  84300903         M        19.69         21.25          130.00     1203.0   \n",
      "3  84348301         M        11.42         20.38           77.58      386.1   \n",
      "4  84358402         M        20.29         14.34          135.10     1297.0   \n",
      "\n",
      "   smoothness_mean  compactness_mean  concavity_mean  concave points_mean  \\\n",
      "0          0.11840           0.27760          0.3001              0.14710   \n",
      "1          0.08474           0.07864          0.0869              0.07017   \n",
      "2          0.10960           0.15990          0.1974              0.12790   \n",
      "3          0.14250           0.28390          0.2414              0.10520   \n",
      "4          0.10030           0.13280          0.1980              0.10430   \n",
      "\n",
      "   ...  radius_worst  texture_worst  perimeter_worst  area_worst  \\\n",
      "0  ...         25.38          17.33           184.60      2019.0   \n",
      "1  ...         24.99          23.41           158.80      1956.0   \n",
      "2  ...         23.57          25.53           152.50      1709.0   \n",
      "3  ...         14.91          26.50            98.87       567.7   \n",
      "4  ...         22.54          16.67           152.20      1575.0   \n",
      "\n",
      "   smoothness_worst  compactness_worst  concavity_worst  concave points_worst  \\\n",
      "0            0.1622             0.6656           0.7119                0.2654   \n",
      "1            0.1238             0.1866           0.2416                0.1860   \n",
      "2            0.1444             0.4245           0.4504                0.2430   \n",
      "3            0.2098             0.8663           0.6869                0.2575   \n",
      "4            0.1374             0.2050           0.4000                0.1625   \n",
      "\n",
      "   symmetry_worst  fractal_dimension_worst  \n",
      "0          0.4601                  0.11890  \n",
      "1          0.2750                  0.08902  \n",
      "2          0.3613                  0.08758  \n",
      "3          0.6638                  0.17300  \n",
      "4          0.2364                  0.07678  \n",
      "\n",
      "[5 rows x 32 columns]\n"
     ]
    }
   ],
   "source": [
    "print(df.head())"
   ]
  },
  {
   "cell_type": "markdown",
   "id": "8d8fb632",
   "metadata": {},
   "source": [
    "# Preprocessing\n",
    "\n",
    "* Convert into numpy arrays\n",
    "* Scale features\n",
    "* Separate labels from features\n",
    "* Split into train / test sets\n",
    "* Convert to tensors"
   ]
  },
  {
   "cell_type": "markdown",
   "id": "c3e9f40e",
   "metadata": {},
   "source": [
    "## Convert to numpy"
   ]
  },
  {
   "cell_type": "code",
   "execution_count": 963,
   "id": "e93a37ab",
   "metadata": {},
   "outputs": [],
   "source": [
    "data = df.to_numpy()"
   ]
  },
  {
   "cell_type": "markdown",
   "id": "56dc65df",
   "metadata": {},
   "source": [
    "## Separate labels from features"
   ]
  },
  {
   "cell_type": "code",
   "execution_count": 964,
   "id": "8c88cbcc",
   "metadata": {},
   "outputs": [],
   "source": [
    "labels = data[:, 1].reshape(569, 1)\n",
    "train_y, test_y = labels[:284, 0], labels[284:568, 0]\n",
    "data = data[:, 2:32]"
   ]
  },
  {
   "cell_type": "markdown",
   "id": "73ff60eb",
   "metadata": {},
   "source": [
    "## Convert letter labels into digits"
   ]
  },
  {
   "cell_type": "code",
   "execution_count": 965,
   "id": "46bd4197",
   "metadata": {},
   "outputs": [],
   "source": [
    "for i in range(len(train_y)):\n",
    "        if train_y[i] == 'M':\n",
    "            train_y[i] = 1\n",
    "        else:\n",
    "            train_y[i] = 0\n",
    "\n",
    "for i in range(len(train_y)):\n",
    "        if test_y[i] == 'M':\n",
    "            test_y[i] = 1\n",
    "        else:\n",
    "            test_y[i] = 0"
   ]
  },
  {
   "cell_type": "markdown",
   "id": "0315641d",
   "metadata": {},
   "source": [
    "## Check out distribution of labels"
   ]
  },
  {
   "cell_type": "code",
   "execution_count": 966,
   "id": "0e4e1d1e",
   "metadata": {},
   "outputs": [
    {
     "data": {
      "text/plain": [
       "<matplotlib.legend.Legend at 0x7fbdb3dddbe0>"
      ]
     },
     "execution_count": 966,
     "metadata": {},
     "output_type": "execute_result"
    },
    {
     "data": {
      "image/png": "[encoded data removed]",
      "text/plain": [
       "<Figure size 432x288 with 1 Axes>"
      ]
     },
     "metadata": {
      "needs_background": "light"
     },
     "output_type": "display_data"
    }
   ],
   "source": [
    "l = list()\n",
    "b = list()\n",
    "for num in train_y:\n",
    "    if num == 1:\n",
    "        l.append(num)\n",
    "    else:\n",
    "        b.append(num)\n",
    "labels = ['Malignant', 'Benign']\n",
    "colors = ['red', 'blue']\n",
    "plt.hist([l, b], 2, label=labels, color=colors)\n",
    "plt.legend(loc='upper right')\n"
   ]
  },
  {
   "cell_type": "markdown",
   "id": "d5950faf",
   "metadata": {},
   "source": [
    "# Convert label arrays to tensors"
   ]
  },
  {
   "cell_type": "code",
   "execution_count": 967,
   "id": "94e7b3f2",
   "metadata": {},
   "outputs": [],
   "source": [
    "train_y = torch.from_numpy(train_y.astype(np.float32)).reshape(train_y.shape[0], 1)\n",
    "test_y = torch.from_numpy(test_y.astype(np.float32)).reshape(test_y.shape[0], 1)"
   ]
  },
  {
   "cell_type": "markdown",
   "id": "b4f87504",
   "metadata": {},
   "source": [
    "# Plot data as scatterplot, with y-axis being its features summed"
   ]
  },
  {
   "cell_type": "code",
   "execution_count": 968,
   "id": "db31c442",
   "metadata": {},
   "outputs": [
    {
     "data": {
      "text/plain": [
       "Text(0, 0.5, 'Sum of features')"
      ]
     },
     "execution_count": 968,
     "metadata": {},
     "output_type": "execute_result"
    },
    {
     "data": {
      "image/png": "[encoded data removed]",
      "text/plain": [
       "<Figure size 432x288 with 1 Axes>"
      ]
     },
     "metadata": {
      "needs_background": "light"
     },
     "output_type": "display_data"
    }
   ],
   "source": [
    "m = list()\n",
    "b = list()\n",
    "for example, label in zip(data[:284], train_y):\n",
    "    val = np.sum(example)\n",
    "    if label == 1:\n",
    "        m.append(val)\n",
    "    else:\n",
    "        b.append(val)\n",
    "x = np.linspace(0, 300, len(m))\n",
    "fig = plt.figure()\n",
    "ax1 = fig.add_subplot(111)\n",
    "ax1.scatter(x, m, color='b')\n",
    "x = np.linspace(0, 300,len(b))\n",
    "ax1.scatter(x, b, color='r')\n",
    "ax1.legend(['Malignant', 'Benign'])\n",
    "plt.xlabel('Index in Array')\n",
    "plt.ylabel('Sum of features')"
   ]
  },
  {
   "cell_type": "markdown",
   "id": "ad414fd5",
   "metadata": {},
   "source": [
    "## Perform feature scaling"
   ]
  },
  {
   "cell_type": "code",
   "execution_count": 969,
   "id": "bbe11c02",
   "metadata": {},
   "outputs": [],
   "source": [
    "scaler = sklearn.preprocessing.StandardScaler()\n",
    "data = scaler.fit_transform(data)"
   ]
  },
  {
   "cell_type": "markdown",
   "id": "292a2c15",
   "metadata": {},
   "source": [
    "## Separate remaining features into train / test sets & convert to tensors"
   ]
  },
  {
   "cell_type": "code",
   "execution_count": 970,
   "id": "07df021c",
   "metadata": {},
   "outputs": [],
   "source": [
    "train_feats = torch.from_numpy(data[:284].astype(np.float32))\n",
    "test_feats = torch.from_numpy(data[284:568].astype(np.float32))"
   ]
  },
  {
   "cell_type": "markdown",
   "id": "acd3ed8e",
   "metadata": {},
   "source": [
    "# Create logistic regression model to following specs:\n",
    "\n",
    "* The only layers will be the input and output layers\n",
    "* The two layers are fully connected\n",
    "* Output is computed with the sigmoid function"
   ]
  },
  {
   "cell_type": "code",
   "execution_count": 971,
   "id": "d5226e0e",
   "metadata": {},
   "outputs": [],
   "source": [
    "class LogisticRegression(nn.Module):\n",
    "    def __init__(self, in_dim):\n",
    "        super(LogisticRegression, self).__init__()\n",
    "        self.output = nn.Linear(30, 1)\n",
    "        self.sigmoid = nn.Sigmoid()\n",
    "\n",
    "    def forward(self, x):\n",
    "        y = self.output(x)\n",
    "        y = self.sigmoid(y)\n",
    "        return y"
   ]
  },
  {
   "cell_type": "markdown",
   "id": "70f69a83",
   "metadata": {},
   "source": [
    "# Initialize model along with its loss function and optimizer"
   ]
  },
  {
   "cell_type": "code",
   "execution_count": 972,
   "id": "2b0016e0",
   "metadata": {},
   "outputs": [],
   "source": [
    "m = LogisticRegression(30)\n",
    "criterion = torch.nn.BCELoss()\n",
    "optimizer = torch.optim.Adam(m.parameters(), lr=.01)"
   ]
  },
  {
   "cell_type": "markdown",
   "id": "493d9e14",
   "metadata": {},
   "source": [
    "# Minimize cost function to find optimal weights"
   ]
  },
  {
   "cell_type": "code",
   "execution_count": 973,
   "id": "872e3bb2",
   "metadata": {},
   "outputs": [
    {
     "name": "stdout",
     "output_type": "stream",
     "text": [
      "epoch #99, loss: 0.08540231734514236, weight: Parameter containing:\n",
      "tensor([[ 0.5616,  0.4843,  0.5235,  0.2430,  0.2613,  0.2789,  0.2004,  0.3162,\n",
      "          0.0632, -0.3215,  0.2570, -0.1350,  0.4017,  0.2773,  0.1081, -0.1724,\n",
      "         -0.2084,  0.2780, -0.3890, -0.2572,  0.6023,  0.6001,  0.5192,  0.5534,\n",
      "          0.4005,  0.1297,  0.4398,  0.4607,  0.4957,  0.1246]],\n",
      "       requires_grad=True)\n",
      "epoch #199, loss: 0.06399856507778168, weight: Parameter containing:\n",
      "tensor([[ 0.6663,  0.7311,  0.6241,  0.3575,  0.2452,  0.2268,  0.2833,  0.3811,\n",
      "          0.0200, -0.4742,  0.4314, -0.3340,  0.5503,  0.4426,  0.2286, -0.3336,\n",
      "         -0.2181,  0.3134, -0.4279, -0.4437,  0.7510,  0.8661,  0.6582,  0.7115,\n",
      "          0.6030,  0.1520,  0.5648,  0.5906,  0.7152,  0.2441]],\n",
      "       requires_grad=True)\n",
      "epoch #299, loss: 0.05438855662941933, weight: Parameter containing:\n",
      "tensor([[ 0.7330,  0.8931,  0.6887,  0.4350,  0.2299,  0.1611,  0.3494,  0.4143,\n",
      "          0.0084, -0.5879,  0.5813, -0.5168,  0.6821,  0.5853,  0.3082, -0.4860,\n",
      "         -0.2024,  0.3607, -0.4439, -0.5936,  0.8603,  1.0645,  0.7600,  0.8332,\n",
      "          0.7564,  0.1451,  0.6630,  0.6911,  0.8759,  0.3527]],\n",
      "       requires_grad=True)\n",
      "epoch #399, loss: 0.048604875802993774, weight: Parameter containing:\n",
      "tensor([[ 0.7845,  1.0094,  0.7389,  0.4967,  0.2181,  0.0938,  0.4054,  0.4321,\n",
      "          0.0120, -0.6850,  0.7092, -0.6742,  0.7965,  0.7124,  0.3606, -0.6228,\n",
      "         -0.1783,  0.4143, -0.4608, -0.7193,  0.9539,  1.2361,  0.8470,  0.9400,\n",
      "          0.8876,  0.1292,  0.7457,  0.7815,  0.9995,  0.4643]],\n",
      "       requires_grad=True)\n",
      "epoch #499, loss: 0.04459451138973236, weight: Parameter containing:\n",
      "tensor([[ 0.8287,  1.0979,  0.7822,  0.5505,  0.2090,  0.0279,  0.4541,  0.4405,\n",
      "          0.0226, -0.7739,  0.8183, -0.8123,  0.8948,  0.8280,  0.3951, -0.7436,\n",
      "         -0.1513,  0.4708, -0.4776, -0.8264,  1.0406,  1.3956,  0.9271,  1.0399,\n",
      "          1.0051,  0.1096,  0.8163,  0.8674,  1.0963,  0.5820]],\n",
      "       requires_grad=True)\n",
      "epoch #599, loss: 0.04155292734503746, weight: Parameter containing:\n",
      "tensor([[ 0.8689,  1.1676,  0.8214,  0.5994,  0.2033, -0.0360,  0.4971,  0.4421,\n",
      "          0.0362, -0.8580,  0.9131, -0.9375,  0.9804,  0.9356,  0.4171, -0.8512,\n",
      "         -0.1240,  0.5289, -0.4916, -0.9194,  1.1241,  1.5486,  1.0039,  1.1365,\n",
      "          1.1134,  0.0872,  0.8761,  0.9506,  1.1721,  0.7064]],\n",
      "       requires_grad=True)\n",
      "epoch #699, loss: 0.03909548744559288, weight: Parameter containing:\n",
      "tensor([[ 0.9062,  1.2240,  0.8579,  0.6449,  0.2019, -0.0984,  0.5357,  0.4382,\n",
      "          0.0509, -0.9384,  0.9974, -1.0538,  1.0564,  1.0379,  0.4301, -0.9489,\n",
      "         -0.0980,  0.5880, -0.5007, -1.0020,  1.2061,  1.6979,  1.0790,  1.2315,\n",
      "          1.2150,  0.0620,  0.9259,  1.0319,  1.2312,  0.8374]],\n",
      "       requires_grad=True)\n",
      "epoch #799, loss: 0.0370163656771183, weight: Parameter containing:\n",
      "tensor([[ 0.9415,  1.2703,  0.8924,  0.6878,  0.2049, -0.1596,  0.5709,  0.4296,\n",
      "          0.0654, -1.0156,  1.0741, -1.1638,  1.1251,  1.1366,  0.4366, -1.0391,\n",
      "         -0.0736,  0.6474, -0.5037, -1.0768,  1.2878,  1.8449,  1.1535,  1.3259,\n",
      "          1.3115,  0.0339,  0.9666,  1.1114,  1.2765,  0.9749]],\n",
      "       requires_grad=True)\n",
      "epoch #899, loss: 0.035196512937545776, weight: Parameter containing:\n",
      "tensor([[ 0.9753,  1.3086,  0.9252,  0.7286,  0.2120, -0.2199,  0.6035,  0.4169,\n",
      "          0.0791, -1.0900,  1.1451, -1.2688,  1.1883,  1.2328,  0.4380, -1.1239,\n",
      "         -0.0506,  0.7071, -0.5003, -1.1461,  1.3698,  1.9904,  1.2280,  1.4204,\n",
      "          1.4040,  0.0027,  0.9991,  1.1896,  1.3103,  1.1188]],\n",
      "       requires_grad=True)\n",
      "epoch #999, loss: 0.033563099801540375, weight: Parameter containing:\n",
      "tensor([[ 1.0078,  1.3403,  0.9567,  0.7677,  0.2228, -0.2796,  0.6343,  0.4004,\n",
      "          0.0916, -1.1616,  1.2116, -1.3698,  1.2472,  1.3273,  0.4356, -1.2046,\n",
      "         -0.0287,  0.7669, -0.4907, -1.2115,  1.4525,  2.1348,  1.3031,  1.5155,\n",
      "          1.4932, -0.0316,  1.0245,  1.2667,  1.3345,  1.2686]],\n",
      "       requires_grad=True)\n"
     ]
    }
   ],
   "source": [
    "losses = list()\n",
    "epochs = 1000\n",
    "for i in range(epochs):\n",
    "    output = m(train_feats)\n",
    "    loss = criterion(output, train_y)\n",
    "    if (i + 1) % 70 == 0:\n",
    "        losses.append(loss.item())\n",
    "    if (i + 1) % 100 == 0 or i == epochs - 1:\n",
    "        print(f'epoch #{i}, loss: {loss}, weight: {m.output.weight}')\n",
    "    loss.backward()\n",
    "    optimizer.step()\n",
    "    optimizer.zero_grad()"
   ]
  },
  {
   "cell_type": "markdown",
   "id": "5936ae26",
   "metadata": {},
   "source": [
    "# Plot loss through all epochs"
   ]
  },
  {
   "cell_type": "code",
   "execution_count": 974,
   "id": "7c7974bb",
   "metadata": {},
   "outputs": [
    {
     "data": {
      "image/png": "[encoded data removed]",
      "text/plain": [
       "<Figure size 432x288 with 1 Axes>"
      ]
     },
     "metadata": {
      "needs_background": "light"
     },
     "output_type": "display_data"
    }
   ],
   "source": [
    "from scipy.interpolate import make_interp_spline, BSpline\n",
    "x = np.linspace(0, 700, 14)\n",
    "y = losses\n",
    "x_new = np.linspace(x.min(), x.max(), 400)\n",
    "spl = make_interp_spline(x, y)\n",
    "y_smooth = spl(x_new)\n",
    "plt.plot(x_new, y_smooth)\n",
    "plt.xlabel('Epoch')\n",
    "plt.ylabel('BCE Loss')\n",
    "plt.show()"
   ]
  },
  {
   "cell_type": "markdown",
   "id": "0238b733",
   "metadata": {},
   "source": [
    "# Test accuracy against test set"
   ]
  },
  {
   "cell_type": "code",
   "execution_count": 975,
   "id": "58d1eef4",
   "metadata": {},
   "outputs": [
    {
     "name": "stdout",
     "output_type": "stream",
     "text": [
      "Accuracy: 97.2%\n"
     ]
    }
   ],
   "source": [
    "with torch.no_grad():\n",
    "    y_pred=m(test_feats)\n",
    "    y_pred_class=y_pred.round()\n",
    "    accuracy=((y_pred_class == test_y).sum()) / 284\n",
    "    print(f'Accuracy: {round(accuracy.item() * 100, 1)}%')"
   ]
  }
 ],
 "metadata": {
  "kernelspec": {
   "display_name": "Python 3 (ipykernel)",
   "language": "python",
   "name": "python3"
  },
  "language_info": {
   "codemirror_mode": {
    "name": "ipython",
    "version": 3
   },
   "file_extension": ".py",
   "mimetype": "text/x-python",
   "name": "python",
   "nbconvert_exporter": "python",
   "pygments_lexer": "ipython3",
   "version": "3.9.12"
  }
 },
 "nbformat": 4,
 "nbformat_minor": 5
}

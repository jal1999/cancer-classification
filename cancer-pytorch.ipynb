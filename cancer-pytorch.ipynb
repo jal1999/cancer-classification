{
 "cells": [
  {
   "cell_type": "code",
   "execution_count": 51,
   "id": "e9bd83e6",
   "metadata": {},
   "outputs": [],
   "source": [
    "import torch\n",
    "from torch import nn\n",
    "import pandas as pd\n",
    "import numpy as np\n",
    "import sklearn\n",
    "from sklearn import datasets\n",
    "import matplotlib.pyplot as plt"
   ]
  },
  {
   "cell_type": "markdown",
   "id": "1a549411",
   "metadata": {},
   "source": [
    "# Importing the dataset"
   ]
  },
  {
   "cell_type": "code",
   "execution_count": 36,
   "id": "4d7deed5",
   "metadata": {},
   "outputs": [],
   "source": [
    "df = pd.read_csv('data.csv')\n",
    "df.drop('Unnamed: 32', axis=1, inplace=True)"
   ]
  },
  {
   "cell_type": "code",
   "execution_count": 37,
   "id": "38d3f445",
   "metadata": {},
   "outputs": [
    {
     "name": "stdout",
     "output_type": "stream",
     "text": [
      "         id diagnosis  radius_mean  texture_mean  perimeter_mean  area_mean  \\\n",
      "0    842302         M        17.99         10.38          122.80     1001.0   \n",
      "1    842517         M        20.57         17.77          132.90     1326.0   \n",
      "2  84300903         M        19.69         21.25          130.00     1203.0   \n",
      "3  84348301         M        11.42         20.38           77.58      386.1   \n",
      "4  84358402         M        20.29         14.34          135.10     1297.0   \n",
      "\n",
      "   smoothness_mean  compactness_mean  concavity_mean  concave points_mean  \\\n",
      "0          0.11840           0.27760          0.3001              0.14710   \n",
      "1          0.08474           0.07864          0.0869              0.07017   \n",
      "2          0.10960           0.15990          0.1974              0.12790   \n",
      "3          0.14250           0.28390          0.2414              0.10520   \n",
      "4          0.10030           0.13280          0.1980              0.10430   \n",
      "\n",
      "   ...  radius_worst  texture_worst  perimeter_worst  area_worst  \\\n",
      "0  ...         25.38          17.33           184.60      2019.0   \n",
      "1  ...         24.99          23.41           158.80      1956.0   \n",
      "2  ...         23.57          25.53           152.50      1709.0   \n",
      "3  ...         14.91          26.50            98.87       567.7   \n",
      "4  ...         22.54          16.67           152.20      1575.0   \n",
      "\n",
      "   smoothness_worst  compactness_worst  concavity_worst  concave points_worst  \\\n",
      "0            0.1622             0.6656           0.7119                0.2654   \n",
      "1            0.1238             0.1866           0.2416                0.1860   \n",
      "2            0.1444             0.4245           0.4504                0.2430   \n",
      "3            0.2098             0.8663           0.6869                0.2575   \n",
      "4            0.1374             0.2050           0.4000                0.1625   \n",
      "\n",
      "   symmetry_worst  fractal_dimension_worst  \n",
      "0          0.4601                  0.11890  \n",
      "1          0.2750                  0.08902  \n",
      "2          0.3613                  0.08758  \n",
      "3          0.6638                  0.17300  \n",
      "4          0.2364                  0.07678  \n",
      "\n",
      "[5 rows x 32 columns]\n"
     ]
    }
   ],
   "source": [
    "print(df.head())"
   ]
  },
  {
   "cell_type": "markdown",
   "id": "8d8fb632",
   "metadata": {},
   "source": [
    "# Preprocessing\n",
    "\n",
    "* Convert into numpy arrays\n",
    "* Scale features\n",
    "* Separate labels from features\n",
    "* Split into train / test sets\n",
    "* Convert to tensors"
   ]
  },
  {
   "cell_type": "markdown",
   "id": "c3e9f40e",
   "metadata": {},
   "source": [
    "## Convert to numpy"
   ]
  },
  {
   "cell_type": "code",
   "execution_count": 38,
   "id": "e93a37ab",
   "metadata": {},
   "outputs": [],
   "source": [
    "data = df.to_numpy()"
   ]
  },
  {
   "cell_type": "markdown",
   "id": "56dc65df",
   "metadata": {},
   "source": [
    "## Separate labels from features"
   ]
  },
  {
   "cell_type": "code",
   "execution_count": 39,
   "id": "8c88cbcc",
   "metadata": {},
   "outputs": [],
   "source": [
    "labels = data[:, 1].reshape(569, 1)\n",
    "train_y, test_y = labels[:284, 0], labels[284:568, 0]\n",
    "data = data[:, 2:32]"
   ]
  },
  {
   "cell_type": "markdown",
   "id": "73ff60eb",
   "metadata": {},
   "source": [
    "## Convert letter labels into digits"
   ]
  },
  {
   "cell_type": "code",
   "execution_count": 40,
   "id": "46bd4197",
   "metadata": {},
   "outputs": [],
   "source": [
    "for i in range(len(train_y)):\n",
    "        if train_y[i] == 'M':\n",
    "            train_y[i] = 1\n",
    "        else:\n",
    "            train_y[i] = 0\n",
    "\n",
    "for i in range(len(train_y)):\n",
    "        if test_y[i] == 'M':\n",
    "            test_y[i] = 1\n",
    "        else:\n",
    "            test_y[i] = 0"
   ]
  },
  {
   "cell_type": "markdown",
   "id": "0315641d",
   "metadata": {},
   "source": [
    "## Check out distribution of labels"
   ]
  },
  {
   "cell_type": "code",
   "execution_count": 41,
   "id": "0e4e1d1e",
   "metadata": {},
   "outputs": [
    {
     "data": {
      "image/png": "[encoded data removed]",
      "text/plain": [
       "<Figure size 432x288 with 1 Axes>"
      ]
     },
     "metadata": {
      "needs_background": "light"
     },
     "output_type": "display_data"
    }
   ],
   "source": [
    "plt.hist(train_y, bins=5)\n",
    "plt.axis([0, 1, 0, 200])\n",
    "plt.xlabel('Label')\n",
    "plt.ylabel('Count')\n",
    "plt.show()"
   ]
  },
  {
   "cell_type": "markdown",
   "id": "d5950faf",
   "metadata": {},
   "source": [
    "# Convert label arrays to tensors"
   ]
  },
  {
   "cell_type": "code",
   "execution_count": 42,
   "id": "94e7b3f2",
   "metadata": {},
   "outputs": [],
   "source": [
    "train_y = torch.from_numpy(train_y.astype(np.float32)).reshape(train_y.shape[0], 1)\n",
    "test_y = torch.from_numpy(test_y.astype(np.float32)).reshape(test_y.shape[0], 1)"
   ]
  },
  {
   "cell_type": "markdown",
   "id": "ad414fd5",
   "metadata": {},
   "source": [
    "## Perform feature scaling"
   ]
  },
  {
   "cell_type": "code",
   "execution_count": 43,
   "id": "bbe11c02",
   "metadata": {},
   "outputs": [],
   "source": [
    "scaler = sklearn.preprocessing.StandardScaler()\n",
    "data = scaler.fit_transform(data)"
   ]
  },
  {
   "cell_type": "markdown",
   "id": "292a2c15",
   "metadata": {},
   "source": [
    "## Separate remaining features into train / test sets & convert to tensors"
   ]
  },
  {
   "cell_type": "code",
   "execution_count": 44,
   "id": "07df021c",
   "metadata": {},
   "outputs": [],
   "source": [
    "train_feats = torch.from_numpy(data[:284].astype(np.float32))\n",
    "test_feats = torch.from_numpy(data[284:568].astype(np.float32))"
   ]
  },
  {
   "cell_type": "markdown",
   "id": "acd3ed8e",
   "metadata": {},
   "source": [
    "# Create logistic regression model to following specs:\n",
    "\n",
    "* The only layers will be the input and output layers\n",
    "* The two layers are fully connected\n",
    "* Output is computed with the sigmoid function"
   ]
  },
  {
   "cell_type": "code",
   "execution_count": 45,
   "id": "d5226e0e",
   "metadata": {},
   "outputs": [],
   "source": [
    "class LogisticRegression(nn.Module):\n",
    "    def __init__(self, in_dim):\n",
    "        super(LogisticRegression, self).__init__()\n",
    "        self.output = nn.Linear(30, 1)\n",
    "\n",
    "    def forward(self, x):\n",
    "        b = torch.sigmoid(self.output(x))\n",
    "        return b"
   ]
  },
  {
   "cell_type": "markdown",
   "id": "70f69a83",
   "metadata": {},
   "source": [
    "# Initialize model along with its loss function and optimizer"
   ]
  },
  {
   "cell_type": "code",
   "execution_count": 46,
   "id": "2b0016e0",
   "metadata": {},
   "outputs": [],
   "source": [
    "m = LogisticRegression(30)\n",
    "criterion = torch.nn.BCELoss()\n",
    "optimizer = torch.optim.Adam(m.parameters(), lr=.001)"
   ]
  },
  {
   "cell_type": "markdown",
   "id": "493d9e14",
   "metadata": {},
   "source": [
    "# Minimize cost function to find optimal weights"
   ]
  },
  {
   "cell_type": "code",
   "execution_count": 47,
   "id": "872e3bb2",
   "metadata": {},
   "outputs": [
    {
     "name": "stdout",
     "output_type": "stream",
     "text": [
      "epoch #99, loss: 0.34451329708099365, weight: Parameter containing:\n",
      "tensor([[-0.0230,  0.2417,  0.2158,  0.0219,  0.0020,  0.0695,  0.0525,  0.1130,\n",
      "          0.1435,  0.0343,  0.0031, -0.0822,  0.0802,  0.1359, -0.1146,  0.0227,\n",
      "          0.1252, -0.0786, -0.0986, -0.0251,  0.1982, -0.0112,  0.2317,  0.0674,\n",
      "          0.0956,  0.0117, -0.0416,  0.0044,  0.0828,  0.0857]],\n",
      "       requires_grad=True)\n",
      "epoch #199, loss: 0.241904616355896, weight: Parameter containing:\n",
      "tensor([[ 0.0317,  0.3037,  0.2697,  0.0757,  0.0488,  0.1113,  0.0963,  0.1636,\n",
      "          0.1746, -0.0640,  0.0545, -0.1244,  0.1307,  0.1863, -0.0806,  0.0466,\n",
      "          0.1183, -0.0350, -0.1791, -0.0886,  0.2533,  0.0519,  0.2860,  0.1212,\n",
      "          0.1520,  0.0571,  0.0034,  0.0571,  0.1351,  0.1265]],\n",
      "       requires_grad=True)\n",
      "epoch #299, loss: 0.19252797961235046, weight: Parameter containing:\n",
      "tensor([[ 0.0735,  0.3559,  0.3107,  0.1167,  0.0828,  0.1394,  0.1278,  0.2017,\n",
      "          0.1922, -0.1447,  0.0946, -0.1413,  0.1694,  0.2250, -0.0254,  0.0546,\n",
      "          0.0974, -0.0038, -0.2332, -0.1544,  0.2960,  0.1059,  0.3279,  0.1626,\n",
      "          0.1972,  0.0894,  0.0363,  0.0977,  0.1780,  0.1573]],\n",
      "       requires_grad=True)\n",
      "epoch #399, loss: 0.16313718259334564, weight: Parameter containing:\n",
      "tensor([[ 0.1077,  0.4027,  0.3443,  0.1504,  0.1088,  0.1600,  0.1535,  0.2325,\n",
      "          0.2028, -0.2105,  0.1284, -0.1501,  0.2014,  0.2574,  0.0151,  0.0544,\n",
      "          0.0779,  0.0211, -0.2739, -0.2110,  0.3317,  0.1547,  0.3627,  0.1974,\n",
      "          0.2357,  0.1146,  0.0637,  0.1316,  0.2162,  0.1839]],\n",
      "       requires_grad=True)\n",
      "epoch #499, loss: 0.1434355527162552, weight: Parameter containing:\n",
      "tensor([[ 0.1370,  0.4457,  0.3729,  0.1794,  0.1291,  0.1757,  0.1757,  0.2586,\n",
      "          0.2087, -0.2662,  0.1581, -0.1577,  0.2290,  0.2857,  0.0449,  0.0490,\n",
      "          0.0616,  0.0419, -0.3061, -0.2610,  0.3629,  0.2001,  0.3931,  0.2278,\n",
      "          0.2698,  0.1351,  0.0878,  0.1612,  0.2511,  0.2081]],\n",
      "       requires_grad=True)\n",
      "epoch #599, loss: 0.12916633486747742, weight: Parameter containing:\n",
      "tensor([[ 0.1629,  0.4860,  0.3981,  0.2051,  0.1454,  0.1879,  0.1955,  0.2813,\n",
      "          0.2113, -0.3146,  0.1849, -0.1669,  0.2534,  0.3112,  0.0691,  0.0401,\n",
      "          0.0482,  0.0597, -0.3320, -0.3067,  0.3910,  0.2429,  0.4202,  0.2552,\n",
      "          0.3007,  0.1523,  0.1097,  0.1876,  0.2837,  0.2307]],\n",
      "       requires_grad=True)\n",
      "epoch #699, loss: 0.11826538294553757, weight: Parameter containing:\n",
      "tensor([[ 0.1860,  0.5240,  0.4207,  0.2283,  0.1585,  0.1975,  0.2136,  0.3015,\n",
      "          0.2115, -0.3574,  0.2094, -0.1784,  0.2757,  0.3347,  0.0904,  0.0285,\n",
      "          0.0370,  0.0752, -0.3529, -0.3494,  0.4166,  0.2837,  0.4449,  0.2805,\n",
      "          0.3293,  0.1671,  0.1302,  0.2117,  0.3145,  0.2522]],\n",
      "       requires_grad=True)\n"
     ]
    }
   ],
   "source": [
    "losses = list()\n",
    "epochs = 700\n",
    "for i in range(epochs):\n",
    "    output = m(train_feats).reshape(284, 1)\n",
    "    loss = criterion(output, train_y)\n",
    "    if (i + 1) % 70 == 0:\n",
    "        losses.append(loss.item())\n",
    "    if (i + 1) % 100 == 0 or i == epochs - 1:\n",
    "        print(f'epoch #{i}, loss: {loss}, weight: {m.output.weight}')\n",
    "    loss.backward()\n",
    "    optimizer.step()\n",
    "    optimizer.zero_grad()"
   ]
  },
  {
   "cell_type": "markdown",
   "id": "5936ae26",
   "metadata": {},
   "source": [
    "# Plot loss through all epochs"
   ]
  },
  {
   "cell_type": "code",
   "execution_count": 48,
   "id": "7c7974bb",
   "metadata": {},
   "outputs": [
    {
     "data": {
      "image/png": "[encoded data removed]",
      "text/plain": [
       "<Figure size 432x288 with 1 Axes>"
      ]
     },
     "metadata": {
      "needs_background": "light"
     },
     "output_type": "display_data"
    }
   ],
   "source": [
    "from scipy.interpolate import make_interp_spline, BSpline\n",
    "x = np.linspace(0, 700, 10)\n",
    "y = losses\n",
    "x_new = np.linspace(x.min(), x.max(), 400)\n",
    "spl = make_interp_spline(x, y)\n",
    "y_smooth = spl(x_new)\n",
    "plt.plot(x_new, y_smooth)\n",
    "plt.xlabel('Epoch')\n",
    "plt.ylabel('BCE Loss')\n",
    "plt.show()"
   ]
  },
  {
   "cell_type": "markdown",
   "id": "0238b733",
   "metadata": {},
   "source": [
    "# Test accuracy against test set"
   ]
  },
  {
   "cell_type": "code",
   "execution_count": 49,
   "id": "58d1eef4",
   "metadata": {},
   "outputs": [
    {
     "name": "stdout",
     "output_type": "stream",
     "text": [
      "Accuracy: 97.9%\n"
     ]
    }
   ],
   "source": [
    "with torch.no_grad():\n",
    "    y_pred=m(test_feats)\n",
    "    y_pred_class=y_pred.round()\n",
    "    accuracy=((y_pred_class == test_y).sum()) / 284\n",
    "    print(f'Accuracy: {round(accuracy.item() * 100, 1)}%')"
   ]
  }
 ],
 "metadata": {
  "kernelspec": {
   "display_name": "Python 3 (ipykernel)",
   "language": "python",
   "name": "python3"
  },
  "language_info": {
   "codemirror_mode": {
    "name": "ipython",
    "version": 3
   },
   "file_extension": ".py",
   "mimetype": "text/x-python",
   "name": "python",
   "nbconvert_exporter": "python",
   "pygments_lexer": "ipython3",
   "version": "3.9.12"
  }
 },
 "nbformat": 4,
 "nbformat_minor": 5
}

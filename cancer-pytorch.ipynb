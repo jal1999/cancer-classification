{
 "cells": [
  {
   "cell_type": "code",
   "execution_count": 1197,
   "id": "e9bd83e6",
   "metadata": {},
   "outputs": [],
   "source": [
    "import torch\n",
    "from torch import nn\n",
    "import pandas as pd\n",
    "import numpy as np\n",
    "import sklearn\n",
    "from sklearn import datasets\n",
    "import matplotlib.pyplot as plt\n",
    "from collections import Counter"
   ]
  },
  {
   "cell_type": "markdown",
   "id": "1a549411",
   "metadata": {},
   "source": [
    "# Importing the dataset"
   ]
  },
  {
   "cell_type": "code",
   "execution_count": 1198,
   "id": "4d7deed5",
   "metadata": {},
   "outputs": [],
   "source": [
    "df = pd.read_csv('data.csv')\n",
    "df.drop('Unnamed: 32', axis=1, inplace=True)"
   ]
  },
  {
   "cell_type": "code",
   "execution_count": 1199,
   "id": "38d3f445",
   "metadata": {},
   "outputs": [
    {
     "name": "stdout",
     "output_type": "stream",
     "text": [
      "         id diagnosis  radius_mean  texture_mean  perimeter_mean  area_mean  \\\n",
      "0    842302         M        17.99         10.38          122.80     1001.0   \n",
      "1    842517         M        20.57         17.77          132.90     1326.0   \n",
      "2  84300903         M        19.69         21.25          130.00     1203.0   \n",
      "3  84348301         M        11.42         20.38           77.58      386.1   \n",
      "4  84358402         M        20.29         14.34          135.10     1297.0   \n",
      "\n",
      "   smoothness_mean  compactness_mean  concavity_mean  concave points_mean  \\\n",
      "0          0.11840           0.27760          0.3001              0.14710   \n",
      "1          0.08474           0.07864          0.0869              0.07017   \n",
      "2          0.10960           0.15990          0.1974              0.12790   \n",
      "3          0.14250           0.28390          0.2414              0.10520   \n",
      "4          0.10030           0.13280          0.1980              0.10430   \n",
      "\n",
      "   ...  radius_worst  texture_worst  perimeter_worst  area_worst  \\\n",
      "0  ...         25.38          17.33           184.60      2019.0   \n",
      "1  ...         24.99          23.41           158.80      1956.0   \n",
      "2  ...         23.57          25.53           152.50      1709.0   \n",
      "3  ...         14.91          26.50            98.87       567.7   \n",
      "4  ...         22.54          16.67           152.20      1575.0   \n",
      "\n",
      "   smoothness_worst  compactness_worst  concavity_worst  concave points_worst  \\\n",
      "0            0.1622             0.6656           0.7119                0.2654   \n",
      "1            0.1238             0.1866           0.2416                0.1860   \n",
      "2            0.1444             0.4245           0.4504                0.2430   \n",
      "3            0.2098             0.8663           0.6869                0.2575   \n",
      "4            0.1374             0.2050           0.4000                0.1625   \n",
      "\n",
      "   symmetry_worst  fractal_dimension_worst  \n",
      "0          0.4601                  0.11890  \n",
      "1          0.2750                  0.08902  \n",
      "2          0.3613                  0.08758  \n",
      "3          0.6638                  0.17300  \n",
      "4          0.2364                  0.07678  \n",
      "\n",
      "[5 rows x 32 columns]\n"
     ]
    }
   ],
   "source": [
    "print(df.head())"
   ]
  },
  {
   "cell_type": "markdown",
   "id": "8d8fb632",
   "metadata": {},
   "source": [
    "# Preprocessing\n",
    "\n",
    "* Convert into numpy arrays\n",
    "* Scale features\n",
    "* Separate labels from features\n",
    "* Split into train / test sets\n",
    "* Convert to tensors"
   ]
  },
  {
   "cell_type": "markdown",
   "id": "c3e9f40e",
   "metadata": {},
   "source": [
    "## Convert to numpy"
   ]
  },
  {
   "cell_type": "code",
   "execution_count": 1200,
   "id": "e93a37ab",
   "metadata": {},
   "outputs": [],
   "source": [
    "data = df.to_numpy()"
   ]
  },
  {
   "cell_type": "markdown",
   "id": "56dc65df",
   "metadata": {},
   "source": [
    "## Separate labels from features"
   ]
  },
  {
   "cell_type": "code",
   "execution_count": 1201,
   "id": "8c88cbcc",
   "metadata": {},
   "outputs": [],
   "source": [
    "labels = data[:, 1].reshape(569, 1)\n",
    "train_y, test_y = labels[:284, 0], labels[284:568, 0]\n",
    "data = data[:, 2:32]"
   ]
  },
  {
   "cell_type": "markdown",
   "id": "73ff60eb",
   "metadata": {},
   "source": [
    "## Convert letter labels into digits"
   ]
  },
  {
   "cell_type": "code",
   "execution_count": 1202,
   "id": "46bd4197",
   "metadata": {},
   "outputs": [],
   "source": [
    "for i in range(len(train_y)):\n",
    "        if train_y[i] == 'M':\n",
    "            train_y[i] = 1\n",
    "        else:\n",
    "            train_y[i] = 0\n",
    "\n",
    "for i in range(len(train_y)):\n",
    "        if test_y[i] == 'M':\n",
    "            test_y[i] = 1\n",
    "        else:\n",
    "            test_y[i] = 0"
   ]
  },
  {
   "cell_type": "markdown",
   "id": "0315641d",
   "metadata": {},
   "source": [
    "## Check out distribution of labels"
   ]
  },
  {
   "cell_type": "code",
   "execution_count": 1203,
   "id": "0e4e1d1e",
   "metadata": {},
   "outputs": [
    {
     "data": {
      "text/plain": [
       "<matplotlib.legend.Legend at 0x7fbda5f8b220>"
      ]
     },
     "execution_count": 1203,
     "metadata": {},
     "output_type": "execute_result"
    },
    {
     "data": {
      "image/png": "[encoded data removed]",
      "text/plain": [
       "<Figure size 432x288 with 1 Axes>"
      ]
     },
     "metadata": {
      "needs_background": "light"
     },
     "output_type": "display_data"
    }
   ],
   "source": [
    "l = list()\n",
    "b = list()\n",
    "for num in train_y:\n",
    "    if num == 1:\n",
    "        l.append(num)\n",
    "    else:\n",
    "        b.append(num)\n",
    "labels = ['Malignant', 'Benign']\n",
    "colors = ['red', 'blue']\n",
    "plt.hist([l, b], 2, label=labels, color=colors)\n",
    "plt.legend(loc='upper right')\n"
   ]
  },
  {
   "cell_type": "markdown",
   "id": "d5950faf",
   "metadata": {},
   "source": [
    "# Convert label arrays to tensors"
   ]
  },
  {
   "cell_type": "code",
   "execution_count": 1204,
   "id": "94e7b3f2",
   "metadata": {},
   "outputs": [],
   "source": [
    "train_y = torch.from_numpy(train_y.astype(np.float32)).reshape(train_y.shape[0], 1)\n",
    "test_y = torch.from_numpy(test_y.astype(np.float32)).reshape(test_y.shape[0], 1)"
   ]
  },
  {
   "cell_type": "markdown",
   "id": "52f340a7",
   "metadata": {},
   "source": [
    "# Plot data as scatterplot, with y-axis being its features summed"
   ]
  },
  {
   "cell_type": "code",
   "execution_count": 1205,
   "id": "4f9d8923",
   "metadata": {},
   "outputs": [
    {
     "data": {
      "text/plain": [
       "Text(0, 0.5, 'Sum of features')"
      ]
     },
     "execution_count": 1205,
     "metadata": {},
     "output_type": "execute_result"
    },
    {
     "data": {
      "image/png": "[encoded data removed]",
      "text/plain": [
       "<Figure size 432x288 with 1 Axes>"
      ]
     },
     "metadata": {
      "needs_background": "light"
     },
     "output_type": "display_data"
    }
   ],
   "source": [
    "m = list()\n",
    "b = list()\n",
    "for example, label in zip(data[:284], train_y):\n",
    "    val = np.sum(example)\n",
    "    if label == 1:\n",
    "        m.append(val)\n",
    "    else:\n",
    "        b.append(val)\n",
    "x = np.linspace(0, 300, len(m))\n",
    "colors = ['blue']\n",
    "plt.scatter(x, m, color = colors)\n",
    "x = np.linspace(0, 300, len(b))\n",
    "colors = ['red']\n",
    "plt.scatter(x, b, color=colors)\n",
    "plt.xlabel('Index in Array')\n",
    "plt.ylabel('Sum of features')"
   ]
  },
  {
   "cell_type": "markdown",
   "id": "ad414fd5",
   "metadata": {},
   "source": [
    "## Perform feature scaling"
   ]
  },
  {
   "cell_type": "code",
   "execution_count": 1206,
   "id": "bbe11c02",
   "metadata": {},
   "outputs": [],
   "source": [
    "scaler = sklearn.preprocessing.StandardScaler()\n",
    "data = scaler.fit_transform(data)"
   ]
  },
  {
   "cell_type": "markdown",
   "id": "292a2c15",
   "metadata": {},
   "source": [
    "## Separate remaining features into train / test sets & convert to tensors"
   ]
  },
  {
   "cell_type": "code",
   "execution_count": 1207,
   "id": "07df021c",
   "metadata": {},
   "outputs": [],
   "source": [
    "train_feats = torch.from_numpy(data[:284].astype(np.float32))\n",
    "test_feats = torch.from_numpy(data[284:568].astype(np.float32))"
   ]
  },
  {
   "cell_type": "markdown",
   "id": "acd3ed8e",
   "metadata": {},
   "source": [
    "# Create logistic regression model to following specs:\n",
    "\n",
    "* The only layers will be the input and output layers\n",
    "* The two layers are fully connected\n",
    "* Output is computed with the sigmoid function"
   ]
  },
  {
   "cell_type": "code",
   "execution_count": 1208,
   "id": "d5226e0e",
   "metadata": {},
   "outputs": [],
   "source": [
    "class LogisticRegression(nn.Module):\n",
    "    def __init__(self, in_dim):\n",
    "        super(LogisticRegression, self).__init__()\n",
    "        self.output = nn.Linear(30, 1)\n",
    "        self.sigmoid = nn.Sigmoid()\n",
    "\n",
    "    def forward(self, x):\n",
    "        y = self.output(x)\n",
    "        y = self.sigmoid(y)\n",
    "        return y"
   ]
  },
  {
   "cell_type": "markdown",
   "id": "70f69a83",
   "metadata": {},
   "source": [
    "# Initialize model along with its loss function and optimizer"
   ]
  },
  {
   "cell_type": "code",
   "execution_count": 1209,
   "id": "2b0016e0",
   "metadata": {},
   "outputs": [],
   "source": [
    "m = LogisticRegression(30)\n",
    "criterion = torch.nn.BCELoss()\n",
    "optimizer = torch.optim.Adam(m.parameters(), lr=.01)"
   ]
  },
  {
   "cell_type": "markdown",
   "id": "493d9e14",
   "metadata": {},
   "source": [
    "# Minimize cost function to find optimal weights"
   ]
  },
  {
   "cell_type": "code",
   "execution_count": 1210,
   "id": "872e3bb2",
   "metadata": {},
   "outputs": [
    {
     "name": "stdout",
     "output_type": "stream",
     "text": [
      "epoch #99, loss: 0.09419701248407364, weight: Parameter containing:\n",
      "tensor([[ 0.4127,  0.6347,  0.5065,  0.3338,  0.1794,  0.4105,  0.2743,  0.2615,\n",
      "          0.1811, -0.4893,  0.2276, -0.1836,  0.5167,  0.3557,  0.1996, -0.1986,\n",
      "         -0.0976,  0.1921, -0.4503, -0.3971,  0.4472,  0.3777,  0.2735,  0.5019,\n",
      "          0.3228,  0.3295,  0.2920,  0.2003,  0.5081,  0.2661]],\n",
      "       requires_grad=True)\n",
      "epoch #199, loss: 0.06925932317972183, weight: Parameter containing:\n",
      "tensor([[ 0.5162,  0.8548,  0.6072,  0.4439,  0.2088,  0.3973,  0.3764,  0.3465,\n",
      "          0.1063, -0.6633,  0.3610, -0.3309,  0.6315,  0.4910,  0.3249, -0.3947,\n",
      "         -0.1013,  0.2493, -0.4953, -0.6092,  0.5835,  0.6421,  0.4028,  0.6421,\n",
      "          0.4914,  0.3660,  0.4227,  0.3341,  0.7192,  0.3991]],\n",
      "       requires_grad=True)\n",
      "epoch #299, loss: 0.05848011374473572, weight: Parameter containing:\n",
      "tensor([[ 0.5867,  0.9934,  0.6760,  0.5218,  0.2191,  0.3627,  0.4555,  0.3989,\n",
      "          0.0780, -0.8043,  0.4713, -0.4748,  0.7304,  0.6056,  0.4064, -0.5710,\n",
      "         -0.0707,  0.3063, -0.5109, -0.7739,  0.6856,  0.8402,  0.4993,  0.7509,\n",
      "          0.6156,  0.3718,  0.5234,  0.4355,  0.8744,  0.5100]],\n",
      "       requires_grad=True)\n",
      "epoch #399, loss: 0.05214372277259827, weight: Parameter containing:\n",
      "tensor([[ 0.6420,  1.0905,  0.7302,  0.5847,  0.2261,  0.3204,  0.5203,  0.4344,\n",
      "          0.0724, -0.9275,  0.5677, -0.6018,  0.8189,  0.7094,  0.4610, -0.7253,\n",
      "         -0.0316,  0.3638, -0.5262, -0.9072,  0.7718,  1.0099,  0.5806,  0.8450,\n",
      "          0.7209,  0.3661,  0.6062,  0.5222,  0.9938,  0.6186]],\n",
      "       requires_grad=True)\n",
      "epoch #499, loss: 0.04781339690089226, weight: Parameter containing:\n",
      "tensor([[ 0.6889,  1.1636,  0.7761,  0.6389,  0.2325,  0.2750,  0.5748,  0.4592,\n",
      "          0.0771, -1.0396,  0.6528, -0.7172,  0.8980,  0.8060,  0.4983, -0.8588,\n",
      "          0.0082,  0.4203, -0.5416, -1.0164,  0.8494,  1.1660,  0.6534,  0.9311,\n",
      "          0.8156,  0.3551,  0.6756,  0.6004,  1.0884,  0.7309]],\n",
      "       requires_grad=True)\n",
      "epoch #599, loss: 0.04456784203648567, weight: Parameter containing:\n",
      "tensor([[ 0.7307,  1.2210,  0.8169,  0.6876,  0.2396,  0.2280,  0.6214,  0.4761,\n",
      "          0.0866, -1.1444,  0.7292, -0.8252,  0.9694,  0.8977,  0.5235, -0.9750,\n",
      "          0.0451,  0.4755, -0.5550, -1.1077,  0.9219,  1.3146,  0.7211,  1.0124,\n",
      "          0.9036,  0.3404,  0.7338,  0.6729,  1.1640,  0.8483]],\n",
      "       requires_grad=True)\n",
      "epoch #699, loss: 0.04197445139288902, weight: Parameter containing:\n",
      "tensor([[ 0.7689,  1.2671,  0.8542,  0.7325,  0.2484,  0.1800,  0.6618,  0.4871,\n",
      "          0.0984, -1.2435,  0.7991, -0.9284,  1.0346,  0.9861,  0.5403, -1.0781,\n",
      "          0.0783,  0.5297, -0.5646, -1.1859,  0.9914,  1.4589,  0.7856,  1.0909,\n",
      "          0.9870,  0.3225,  0.7822,  0.7414,  1.2246,  0.9710]],\n",
      "       requires_grad=True)\n",
      "epoch #799, loss: 0.03980281203985214, weight: Parameter containing:\n",
      "tensor([[ 0.8046,  1.3047,  0.8890,  0.7746,  0.2593,  0.1314,  0.6975,  0.4933,\n",
      "          0.1108, -1.3378,  0.8641, -1.0279,  1.0950,  1.0723,  0.5507, -1.1712,\n",
      "          0.1077,  0.5833, -0.5695, -1.2546,  1.0592,  1.6003,  0.8481,  1.1677,\n",
      "          1.0671,  0.3016,  0.8221,  0.8068,  1.2728,  1.0991]],\n",
      "       requires_grad=True)\n",
      "epoch #899, loss: 0.03791971877217293, weight: Parameter containing:\n",
      "tensor([[ 0.8385,  1.3352,  0.9218,  0.8145,  0.2722,  0.0822,  0.7296,  0.4954,\n",
      "          0.1231, -1.4278,  0.9253, -1.1245,  1.1516,  1.1572,  0.5561, -1.2569,\n",
      "          0.1341,  0.6366, -0.5692, -1.3166,  1.1260,  1.7399,  0.9095,  1.2435,\n",
      "          1.1448,  0.2777,  0.8545,  0.8700,  1.3106,  1.2323]],\n",
      "       requires_grad=True)\n",
      "epoch #999, loss: 0.036243341863155365, weight: Parameter containing:\n",
      "tensor([[ 0.8709,  1.3598,  0.9532,  0.8527,  0.2871,  0.0325,  0.7591,  0.4939,\n",
      "          0.1346, -1.5137,  0.9835, -1.2185,  1.2050,  1.2411,  0.5575, -1.3371,\n",
      "          0.1584,  0.6899, -0.5638, -1.3743,  1.1925,  1.8783,  0.9705,  1.3190,\n",
      "          1.2205,  0.2507,  0.8803,  0.9314,  1.3395,  1.3705]],\n",
      "       requires_grad=True)\n",
      "epoch #1099, loss: 0.03472105413675308, weight: Parameter containing:\n",
      "tensor([[ 0.9023,  1.3793,  0.9834,  0.8897,  0.3038, -0.0176,  0.7866,  0.4894,\n",
      "          0.1451, -1.5958,  1.0391, -1.3101,  1.2558,  1.3244,  0.5557, -1.4131,\n",
      "          0.1814,  0.7433, -0.5532, -1.4292,  1.2591,  2.0159,  1.0314,  1.3946,\n",
      "          1.2945,  0.2209,  0.9003,  0.9915,  1.3607,  1.5135]],\n",
      "       requires_grad=True)\n",
      "epoch #1199, loss: 0.03331771120429039, weight: Parameter containing:\n",
      "tensor([[ 0.9329,  1.3942,  1.0128,  0.9256,  0.3223, -0.0680,  0.8127,  0.4819,\n",
      "          0.1547, -1.6743,  1.0926, -1.3997,  1.3043,  1.4072,  0.5513, -1.4858,\n",
      "          0.2038,  0.7969, -0.5380, -1.4827,  1.3262,  2.1531,  1.0926,  1.4705,\n",
      "          1.3671,  0.1882,  0.9152,  1.0506,  1.3753,  1.6608]],\n",
      "       requires_grad=True)\n",
      "epoch #1299, loss: 0.03200918436050415, weight: Parameter containing:\n",
      "tensor([[ 0.9630,  1.4052,  1.0415,  0.9607,  0.3424, -0.1187,  0.8378,  0.4719,\n",
      "          0.1633, -1.7494,  1.1442, -1.4873,  1.3509,  1.4898,  0.5448, -1.5559,\n",
      "          0.2262,  0.8507, -0.5184, -1.5359,  1.3941,  2.2902,  1.1543,  1.5470,\n",
      "          1.4383,  0.1528,  0.9254,  1.1089,  1.3842,  1.8124]],\n",
      "       requires_grad=True)\n",
      "epoch #1399, loss: 0.030778517946600914, weight: Parameter containing:\n",
      "tensor([[ 0.9925,  1.4126,  1.0696,  0.9951,  0.3639, -0.1696,  0.8622,  0.4594,\n",
      "          0.1712, -1.8213,  1.1942, -1.5733,  1.3958,  1.5722,  0.5368, -1.6237,\n",
      "          0.2489,  0.9047, -0.4950, -1.5896,  1.4628,  2.4275,  1.2169,  1.6242,\n",
      "          1.5082,  0.1149,  0.9314,  1.1666,  1.3881,  1.9677]],\n",
      "       requires_grad=True)\n",
      "epoch #1499, loss: 0.02961360290646553, weight: Parameter containing:\n",
      "tensor([[ 1.0217,  1.4170,  1.0972,  1.0290,  0.3867, -0.2207,  0.8862,  0.4446,\n",
      "          0.1785, -1.8903,  1.2429, -1.6578,  1.4392,  1.6546,  0.5276, -1.6897,\n",
      "          0.2723,  0.9588, -0.4684, -1.6446,  1.5326,  2.5652,  1.2803,  1.7022,\n",
      "          1.5769,  0.0746,  0.9337,  1.2239,  1.3878,  2.1266]],\n",
      "       requires_grad=True)\n",
      "epoch #1599, loss: 0.02850567363202572, weight: Parameter containing:\n",
      "tensor([[ 1.0506,  1.4188,  1.1245,  1.0624,  0.4108, -0.2720,  0.9099,  0.4276,\n",
      "          0.1857, -1.9565,  1.2903, -1.7411,  1.4813,  1.7368,  0.5177, -1.7540,\n",
      "          0.2967,  1.0130, -0.4390, -1.7013,  1.6036,  2.7035,  1.3447,  1.7811,\n",
      "          1.6444,  0.0321,  0.9325,  1.2810,  1.3839,  2.2888]],\n",
      "       requires_grad=True)\n",
      "epoch #1699, loss: 0.027448251843452454, weight: Parameter containing:\n",
      "tensor([[ 1.0793,  1.4184,  1.1514,  1.0953,  0.4360, -0.3233,  0.9336,  0.4084,\n",
      "          0.1929, -2.0202,  1.3366, -1.8233,  1.5224,  1.8190,  0.5073, -1.8166,\n",
      "          0.3222,  1.0673, -0.4075, -1.7604,  1.6759,  2.8425,  1.4102,  1.8609,\n",
      "          1.7106, -0.0123,  0.9282,  1.3380,  1.3771,  2.4537]],\n",
      "       requires_grad=True)\n",
      "epoch #1799, loss: 0.02643650956451893, weight: Parameter containing:\n",
      "tensor([[ 1.1079,  1.4161,  1.1780,  1.1278,  0.4622, -0.3748,  0.9573,  0.3872,\n",
      "          0.2004, -2.0814,  1.3821, -1.9047,  1.5624,  1.9013,  0.4969, -1.8777,\n",
      "          0.3490,  1.1217, -0.3744, -1.8222,  1.7494,  2.9825,  1.4767,  1.9416,\n",
      "          1.7757, -0.0585,  0.9211,  1.3948,  1.3678,  2.6213]],\n",
      "       requires_grad=True)\n",
      "epoch #1899, loss: 0.025466766208410263, weight: Parameter containing:\n",
      "tensor([[ 1.1363,  1.4124,  1.2044,  1.1599,  0.4895, -0.4263,  0.9811,  0.3640,\n",
      "          0.2085, -2.1403,  1.4270, -1.9856,  1.6016,  1.9835,  0.4867, -1.9372,\n",
      "          0.3771,  1.1761, -0.3403, -1.8870,  1.8244,  3.1236,  1.5444,  2.0232,\n",
      "          1.8395, -0.1063,  0.9115,  1.4518,  1.3567,  2.7910]],\n",
      "       requires_grad=True)\n",
      "epoch #1999, loss: 0.024536125361919403, weight: Parameter containing:\n",
      "tensor([[ 1.1647,  1.4074,  1.2305,  1.1917,  0.5177, -0.4778,  1.0051,  0.3389,\n",
      "          0.2175, -2.1971,  1.4713, -2.0660,  1.6401,  2.0658,  0.4769, -1.9952,\n",
      "          0.4066,  1.2305, -0.3056, -1.9552,  1.9007,  3.2658,  1.6132,  2.1058,\n",
      "          1.9021, -0.1555,  0.8996,  1.5088,  1.3441,  2.9627]],\n",
      "       requires_grad=True)\n"
     ]
    }
   ],
   "source": [
    "losses = list()\n",
    "epochs = 2000\n",
    "for i in range(epochs):\n",
    "    output = m(train_feats)\n",
    "    loss = criterion(output, train_y)\n",
    "    if (i + 1) % 70 == 0:\n",
    "        losses.append(loss.item())\n",
    "    if (i + 1) % 100 == 0 or i == epochs - 1:\n",
    "        print(f'epoch #{i}, loss: {loss}, weight: {m.output.weight}')\n",
    "    loss.backward()\n",
    "    optimizer.step()\n",
    "    optimizer.zero_grad()"
   ]
  },
  {
   "cell_type": "markdown",
   "id": "5936ae26",
   "metadata": {},
   "source": [
    "# Plot loss through all epochs"
   ]
  },
  {
   "cell_type": "code",
   "execution_count": 1211,
   "id": "7c7974bb",
   "metadata": {},
   "outputs": [
    {
     "data": {
      "image/png": "[encoded data removed]",
      "text/plain": [
       "<Figure size 432x288 with 1 Axes>"
      ]
     },
     "metadata": {
      "needs_background": "light"
     },
     "output_type": "display_data"
    }
   ],
   "source": [
    "from scipy.interpolate import make_interp_spline, BSpline\n",
    "x = np.linspace(0, 300, 28)\n",
    "y = losses\n",
    "x_new = np.linspace(x.min(), x.max(), 400)\n",
    "spl = make_interp_spline(x, y)\n",
    "y_smooth = spl(x_new)\n",
    "plt.plot(x_new, y_smooth)\n",
    "plt.xlabel('Epoch')\n",
    "plt.ylabel('BCE Loss')\n",
    "plt.show()"
   ]
  },
  {
   "cell_type": "markdown",
   "id": "0238b733",
   "metadata": {},
   "source": [
    "# Test accuracy against test set"
   ]
  },
  {
   "cell_type": "code",
   "execution_count": 1212,
   "id": "58d1eef4",
   "metadata": {},
   "outputs": [
    {
     "name": "stdout",
     "output_type": "stream",
     "text": [
      "Accuracy: 97.2%\n"
     ]
    }
   ],
   "source": [
    "with torch.no_grad():\n",
    "    y_pred=m(test_feats)\n",
    "    y_pred_class=y_pred.round()\n",
    "    accuracy=((y_pred_class == test_y).sum()) / 284\n",
    "    print(f'Accuracy: {round(accuracy.item() * 100, 1)}%')"
   ]
  },
  {
   "cell_type": "markdown",
   "id": "a99c28a4",
   "metadata": {},
   "source": [
    "# Plot decision boundary"
   ]
  },
  {
   "cell_type": "code",
   "execution_count": 1213,
   "id": "ba71b634",
   "metadata": {},
   "outputs": [
    {
     "name": "stdout",
     "output_type": "stream",
     "text": [
      "2\n"
     ]
    },
    {
     "data": {
      "text/plain": [
       "<matplotlib.legend.Legend at 0x7fbda668ffa0>"
      ]
     },
     "execution_count": 1213,
     "metadata": {},
     "output_type": "execute_result"
    },
    {
     "data": {
      "image/png": "[encoded data removed]",
      "text/plain": [
       "<Figure size 432x288 with 1 Axes>"
      ]
     },
     "metadata": {
      "needs_background": "light"
     },
     "output_type": "display_data"
    }
   ],
   "source": [
    "s = list()\n",
    "b = list()\n",
    "for example, label in zip(data[:284], train_y):\n",
    "    val = np.sum(example)\n",
    "    if label == 1:\n",
    "        s.append(val)\n",
    "    else:\n",
    "        b.append(val)\n",
    "x = np.linspace(0, 300, len(s))\n",
    "print(len(r))\n",
    "colors = ['black']\n",
    "plt.scatter(x, s, color = colors, label='Malignant')\n",
    "x = np.linspace(0, 300, len(b))\n",
    "colors = ['tab:purple']\n",
    "n = (torch.sum(m.output.weight) - m.output.weight[0] + m.output.weight[0]) / 30\n",
    "c = m.output.weight[0].detach().numpy()\n",
    "plt.scatter(x, b, color=colors, label='Benign')\n",
    "x = np.linspace(0, 300, 30)\n",
    "plt.plot(x, (n.detach().numpy() + m.output.bias[0].detach().numpy()), color = 'tab:orange', label='Decision Boundary')\n",
    "plt.xlabel('Index in Array')\n",
    "plt.ylabel('Sum of features')\n",
    "plt.legend()"
   ]
  }
 ],
 "metadata": {
  "kernelspec": {
   "display_name": "Python 3 (ipykernel)",
   "language": "python",
   "name": "python3"
  },
  "language_info": {
   "codemirror_mode": {
    "name": "ipython",
    "version": 3
   },
   "file_extension": ".py",
   "mimetype": "text/x-python",
   "name": "python",
   "nbconvert_exporter": "python",
   "pygments_lexer": "ipython3",
   "version": "3.9.12"
  }
 },
 "nbformat": 4,
 "nbformat_minor": 5
}

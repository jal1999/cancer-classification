{
 "cells": [
  {
   "cell_type": "code",
   "execution_count": 1302,
   "id": "e9bd83e6",
   "metadata": {},
   "outputs": [],
   "source": [
    "import torch\n",
    "from torch import nn\n",
    "import pandas as pd\n",
    "import numpy as np\n",
    "import sklearn\n",
    "from sklearn import datasets\n",
    "import matplotlib.pyplot as plt\n",
    "from collections import Counter"
   ]
  },
  {
   "cell_type": "markdown",
   "id": "1a549411",
   "metadata": {},
   "source": [
    "# Importing the dataset"
   ]
  },
  {
   "cell_type": "code",
   "execution_count": 1303,
   "id": "4d7deed5",
   "metadata": {},
   "outputs": [],
   "source": [
    "df = pd.read_csv('data.csv')\n",
    "df.drop('Unnamed: 32', axis=1, inplace=True)"
   ]
  },
  {
   "cell_type": "code",
   "execution_count": 1304,
   "id": "38d3f445",
   "metadata": {},
   "outputs": [
    {
     "name": "stdout",
     "output_type": "stream",
     "text": [
      "         id diagnosis  radius_mean  texture_mean  perimeter_mean  area_mean  \\\n",
      "0    842302         M        17.99         10.38          122.80     1001.0   \n",
      "1    842517         M        20.57         17.77          132.90     1326.0   \n",
      "2  84300903         M        19.69         21.25          130.00     1203.0   \n",
      "3  84348301         M        11.42         20.38           77.58      386.1   \n",
      "4  84358402         M        20.29         14.34          135.10     1297.0   \n",
      "\n",
      "   smoothness_mean  compactness_mean  concavity_mean  concave points_mean  \\\n",
      "0          0.11840           0.27760          0.3001              0.14710   \n",
      "1          0.08474           0.07864          0.0869              0.07017   \n",
      "2          0.10960           0.15990          0.1974              0.12790   \n",
      "3          0.14250           0.28390          0.2414              0.10520   \n",
      "4          0.10030           0.13280          0.1980              0.10430   \n",
      "\n",
      "   ...  radius_worst  texture_worst  perimeter_worst  area_worst  \\\n",
      "0  ...         25.38          17.33           184.60      2019.0   \n",
      "1  ...         24.99          23.41           158.80      1956.0   \n",
      "2  ...         23.57          25.53           152.50      1709.0   \n",
      "3  ...         14.91          26.50            98.87       567.7   \n",
      "4  ...         22.54          16.67           152.20      1575.0   \n",
      "\n",
      "   smoothness_worst  compactness_worst  concavity_worst  concave points_worst  \\\n",
      "0            0.1622             0.6656           0.7119                0.2654   \n",
      "1            0.1238             0.1866           0.2416                0.1860   \n",
      "2            0.1444             0.4245           0.4504                0.2430   \n",
      "3            0.2098             0.8663           0.6869                0.2575   \n",
      "4            0.1374             0.2050           0.4000                0.1625   \n",
      "\n",
      "   symmetry_worst  fractal_dimension_worst  \n",
      "0          0.4601                  0.11890  \n",
      "1          0.2750                  0.08902  \n",
      "2          0.3613                  0.08758  \n",
      "3          0.6638                  0.17300  \n",
      "4          0.2364                  0.07678  \n",
      "\n",
      "[5 rows x 32 columns]\n"
     ]
    }
   ],
   "source": [
    "print(df.head())"
   ]
  },
  {
   "cell_type": "markdown",
   "id": "8d8fb632",
   "metadata": {},
   "source": [
    "# Preprocessing\n",
    "\n",
    "* Convert into numpy arrays\n",
    "* Scale features\n",
    "* Separate labels from features\n",
    "* Split into train / test sets\n",
    "* Convert to tensors"
   ]
  },
  {
   "cell_type": "markdown",
   "id": "c3e9f40e",
   "metadata": {},
   "source": [
    "## Convert to numpy"
   ]
  },
  {
   "cell_type": "code",
   "execution_count": 1305,
   "id": "e93a37ab",
   "metadata": {},
   "outputs": [],
   "source": [
    "data = df.to_numpy()"
   ]
  },
  {
   "cell_type": "markdown",
   "id": "56dc65df",
   "metadata": {},
   "source": [
    "## Separate labels from features"
   ]
  },
  {
   "cell_type": "code",
   "execution_count": 1306,
   "id": "8c88cbcc",
   "metadata": {},
   "outputs": [],
   "source": [
    "labels = data[:, 1].reshape(569, 1)\n",
    "train_y, test_y = labels[:284, 0], labels[284:568, 0]\n",
    "z, r = labels[:284, 0], labels[284:568, 0]\n",
    "data = data[:, 2:32]"
   ]
  },
  {
   "cell_type": "markdown",
   "id": "73ff60eb",
   "metadata": {},
   "source": [
    "## Convert letter labels into digits"
   ]
  },
  {
   "cell_type": "code",
   "execution_count": 1307,
   "id": "46bd4197",
   "metadata": {},
   "outputs": [],
   "source": [
    "for i in range(len(train_y)):\n",
    "        if train_y[i] == 'M':\n",
    "            train_y[i] = 1\n",
    "        else:\n",
    "            train_y[i] = 0\n",
    "\n",
    "for i in range(len(train_y)):\n",
    "        if test_y[i] == 'M':\n",
    "            test_y[i] = 1\n",
    "        else:\n",
    "            test_y[i] = 0"
   ]
  },
  {
   "cell_type": "markdown",
   "id": "0315641d",
   "metadata": {},
   "source": [
    "## Check out distribution of labels"
   ]
  },
  {
   "cell_type": "code",
   "execution_count": 1308,
   "id": "0e4e1d1e",
   "metadata": {},
   "outputs": [
    {
     "data": {
      "text/plain": [
       "<BarContainer object of 2 artists>"
      ]
     },
     "execution_count": 1308,
     "metadata": {},
     "output_type": "execute_result"
    },
    {
     "data": {
      "image/png": "[encoded data removed]",
      "text/plain": [
       "<Figure size 432x288 with 1 Axes>"
      ]
     },
     "metadata": {
      "needs_background": "light"
     },
     "output_type": "display_data"
    }
   ],
   "source": [
    "l = list()\n",
    "b = list()\n",
    "for num in train_y:\n",
    "    if num == 1:\n",
    "        l.append(num)\n",
    "    else:\n",
    "        b.append(num)\n",
    "labels = ['Malignant', 'Benign']\n",
    "colors = ['tab:cyan', 'tab:purple']\n",
    "plt.bar(['Malignant', 'Benign'], [len(l), len(b)], label=labels, color=colors)\n",
    "\n"
   ]
  },
  {
   "cell_type": "markdown",
   "id": "d5950faf",
   "metadata": {},
   "source": [
    "# Convert label arrays to tensors"
   ]
  },
  {
   "cell_type": "code",
   "execution_count": 1309,
   "id": "94e7b3f2",
   "metadata": {},
   "outputs": [],
   "source": [
    "train_y = torch.from_numpy(train_y.astype(np.float32)).reshape(train_y.shape[0], 1)\n",
    "test_y = torch.from_numpy(test_y.astype(np.float32)).reshape(test_y.shape[0], 1)"
   ]
  },
  {
   "cell_type": "markdown",
   "id": "c6ca412c",
   "metadata": {},
   "source": [
    "# Plot data as scatterplot, with y-axis being its features summed"
   ]
  },
  {
   "cell_type": "code",
   "execution_count": 1310,
   "id": "bd8bd78d",
   "metadata": {},
   "outputs": [
    {
     "data": {
      "text/plain": [
       "Text(0, 0.5, 'Sum of features')"
      ]
     },
     "execution_count": 1310,
     "metadata": {},
     "output_type": "execute_result"
    },
    {
     "data": {
      "image/png": "[encoded data removed]",
      "text/plain": [
       "<Figure size 432x288 with 1 Axes>"
      ]
     },
     "metadata": {
      "needs_background": "light"
     },
     "output_type": "display_data"
    }
   ],
   "source": [
    "m = list()\n",
    "b = list()\n",
    "for example, label in zip(data[:284], train_y):\n",
    "    val = np.sum(example)\n",
    "    if label == 1:\n",
    "        m.append(val)\n",
    "    else:\n",
    "        b.append(val)\n",
    "x = np.linspace(0, 300, len(m))\n",
    "colors = ['tab:cyan']\n",
    "plt.scatter(x, m, color = colors)\n",
    "x = np.linspace(0, 300, len(b))\n",
    "colors = ['tab:purple']\n",
    "plt.scatter(x, b, color=colors)\n",
    "plt.xlabel('Index in Array')\n",
    "plt.ylabel('Sum of features')"
   ]
  },
  {
   "cell_type": "markdown",
   "id": "ad414fd5",
   "metadata": {},
   "source": [
    "## Perform feature scaling"
   ]
  },
  {
   "cell_type": "code",
   "execution_count": 1311,
   "id": "bbe11c02",
   "metadata": {},
   "outputs": [],
   "source": [
    "scaler = sklearn.preprocessing.StandardScaler()\n",
    "data = scaler.fit_transform(data)"
   ]
  },
  {
   "cell_type": "markdown",
   "id": "292a2c15",
   "metadata": {},
   "source": [
    "## Separate remaining features into train / test sets & convert to tensors"
   ]
  },
  {
   "cell_type": "code",
   "execution_count": 1312,
   "id": "07df021c",
   "metadata": {},
   "outputs": [],
   "source": [
    "train_feats = torch.from_numpy(data[:284].astype(np.float32))\n",
    "test_feats = torch.from_numpy(data[284:568].astype(np.float32))"
   ]
  },
  {
   "cell_type": "markdown",
   "id": "acd3ed8e",
   "metadata": {},
   "source": [
    "# Create logistic regression model to following specs:\n",
    "\n",
    "* The only layers will be the input and output layers\n",
    "* The two layers are fully connected\n",
    "* Output is computed with the sigmoid function"
   ]
  },
  {
   "cell_type": "code",
   "execution_count": 1313,
   "id": "d5226e0e",
   "metadata": {},
   "outputs": [],
   "source": [
    "class LogisticRegression(nn.Module):\n",
    "    def __init__(self, in_dim):\n",
    "        super(LogisticRegression, self).__init__()\n",
    "        self.output = nn.Linear(30, 1)\n",
    "        self.sigmoid = nn.Sigmoid()\n",
    "\n",
    "    def forward(self, x):\n",
    "        y = self.output(x)\n",
    "        y = self.sigmoid(y)\n",
    "        return y"
   ]
  },
  {
   "cell_type": "markdown",
   "id": "70f69a83",
   "metadata": {},
   "source": [
    "# Initialize model along with its loss function and optimizer"
   ]
  },
  {
   "cell_type": "code",
   "execution_count": 1314,
   "id": "2b0016e0",
   "metadata": {},
   "outputs": [],
   "source": [
    "m = LogisticRegression(30)\n",
    "criterion = torch.nn.BCELoss()\n",
    "optimizer = torch.optim.Adam(m.parameters(), lr=.01)"
   ]
  },
  {
   "cell_type": "markdown",
   "id": "493d9e14",
   "metadata": {},
   "source": [
    "# Minimize cost function to find optimal weights"
   ]
  },
  {
   "cell_type": "code",
   "execution_count": 1315,
   "id": "872e3bb2",
   "metadata": {},
   "outputs": [
    {
     "name": "stdout",
     "output_type": "stream",
     "text": [
      "epoch #99, loss: 0.08279749006032944, weight: Parameter containing:\n",
      "tensor([[ 0.3105,  0.6572,  0.5155,  0.5131,  0.2848,  0.1946,  0.4664,  0.2517,\n",
      "          0.0965, -0.5344,  0.4921, -0.3355,  0.4934,  0.2891,  0.1345, -0.0756,\n",
      "         -0.2562,  0.2183, -0.3213, -0.4971,  0.4526,  0.6405,  0.2505,  0.3913,\n",
      "          0.3373,  0.1490,  0.5076,  0.4545,  0.4625,  0.2834]],\n",
      "       requires_grad=True)\n",
      "epoch #199, loss: 0.06229056790471077, weight: Parameter containing:\n",
      "tensor([[ 0.4231,  0.8681,  0.6260,  0.6331,  0.3104,  0.1896,  0.5800,  0.3344,\n",
      "          0.0513, -0.7373,  0.6309, -0.5048,  0.6189,  0.4354,  0.2673, -0.3699,\n",
      "         -0.2498,  0.3192, -0.3753, -0.6778,  0.5946,  0.9000,  0.3869,  0.5388,\n",
      "          0.5086,  0.1956,  0.6479,  0.5857,  0.6697,  0.4492]],\n",
      "       requires_grad=True)\n",
      "epoch #299, loss: 0.053167760372161865, weight: Parameter containing:\n",
      "tensor([[ 0.5033,  0.9968,  0.7050,  0.7215,  0.3108,  0.1597,  0.6643,  0.3809,\n",
      "          0.0439, -0.9071,  0.7435, -0.6544,  0.7253,  0.5600,  0.3552, -0.6123,\n",
      "         -0.2065,  0.4018, -0.3988, -0.8155,  0.7041,  1.1019,  0.4920,  0.6563,\n",
      "          0.6351,  0.2130,  0.7545,  0.6843,  0.8280,  0.5952]],\n",
      "       requires_grad=True)\n",
      "epoch #399, loss: 0.04770883917808533, weight: Parameter containing:\n",
      "tensor([[ 0.5685,  1.0856,  0.7691,  0.7944,  0.3097,  0.1212,  0.7298,  0.4093,\n",
      "          0.0522, -1.0557,  0.8408, -0.7858,  0.8195,  0.6739,  0.4165, -0.8072,\n",
      "         -0.1606,  0.4716, -0.4208, -0.9240,  0.7984,  1.2816,  0.5823,  0.7597,\n",
      "          0.7439,  0.2190,  0.8384,  0.7674,  0.9502,  0.7407]],\n",
      "       requires_grad=True)\n",
      "epoch #499, loss: 0.04391322657465935, weight: Parameter containing:\n",
      "tensor([[ 0.6248,  1.1511,  0.8244,  0.8583,  0.3120,  0.0786,  0.7822,  0.4262,\n",
      "          0.0679, -1.1907,  0.9273, -0.9068,  0.9041,  0.7812,  0.4603, -0.9660,\n",
      "         -0.1193,  0.5328, -0.4412, -1.0130,  0.8844,  1.4508,  0.6645,  0.8553,\n",
      "          0.8433,  0.2179,  0.9046,  0.8413,  1.0458,  0.8894]],\n",
      "       requires_grad=True)\n",
      "epoch #599, loss: 0.041012104600667953, weight: Parameter containing:\n",
      "tensor([[ 0.6754,  1.2014,  0.8741,  0.9160,  0.3187,  0.0336,  0.8254,  0.4350,\n",
      "          0.0865, -1.3150,  1.0057, -1.0218,  0.9812,  0.8844,  0.4921, -1.1000,\n",
      "         -0.0830,  0.5893, -0.4577, -1.0895,  0.9655,  1.6144,  0.7416,  0.9463,\n",
      "          0.9368,  0.2108,  0.9560,  0.9092,  1.1213,  1.0420]],\n",
      "       requires_grad=True)\n",
      "epoch #699, loss: 0.038647569715976715, weight: Parameter containing:\n",
      "tensor([[ 0.7220,  1.2406,  0.9197,  0.9693,  0.3298, -0.0130,  0.8623,  0.4379,\n",
      "          0.1058, -1.4301,  1.0779, -1.1325,  1.0524,  0.9848,  0.5148, -1.2172,\n",
      "         -0.0504,  0.6435, -0.4687, -1.1581,  1.0436,  1.7748,  0.8158,  1.0345,\n",
      "          1.0263,  0.1980,  0.9954,  0.9730,  1.1807,  1.1989]],\n",
      "       requires_grad=True)\n",
      "epoch #799, loss: 0.03663160279393196, weight: Parameter containing:\n",
      "tensor([[ 0.7656,  1.2711,  0.9623,  1.0194,  0.3445, -0.0607,  0.8948,  0.4359,\n",
      "          0.1243, -1.5370,  1.1452, -1.2398,  1.1188,  1.0833,  0.5304, -1.3227,\n",
      "         -0.0198,  0.6971, -0.4735, -1.2224,  1.1202,  1.9333,  0.8883,  1.1213,\n",
      "          1.1125,  0.1799,  1.0244,  1.0340,  1.2271,  1.3601]],\n",
      "       requires_grad=True)\n",
      "epoch #899, loss: 0.034856438636779785, weight: Parameter containing:\n",
      "tensor([[ 0.8071,  1.2944,  1.0027,  1.0671,  0.3625, -0.1093,  0.9246,  0.4300,\n",
      "          0.1414, -1.6364,  1.2085, -1.3442,  1.1812,  1.1804,  0.5402, -1.4200,\n",
      "          0.0099,  0.7508, -0.4720, -1.2844,  1.1960,  2.0907,  0.9599,  1.2074,\n",
      "          1.1961,  0.1570,  1.0448,  1.0931,  1.2626,  1.5254]],\n",
      "       requires_grad=True)\n",
      "epoch #999, loss: 0.033256255090236664, weight: Parameter containing:\n",
      "tensor([[ 0.8469,  1.3116,  1.0414,  1.1129,  0.3831, -0.1586,  0.9525,  0.4207,\n",
      "          0.1570, -1.7294,  1.2683, -1.4457,  1.2401,  1.2765,  0.5453, -1.5110,\n",
      "          0.0398,  0.8049, -0.4645, -1.3460,  1.2717,  2.2474,  1.0313,  1.2932,\n",
      "          1.2775,  0.1295,  1.0577,  1.1507,  1.2889,  1.6948]],\n",
      "       requires_grad=True)\n",
      "epoch #1099, loss: 0.03178887814283371, weight: Parameter containing:\n",
      "tensor([[ 0.8854,  1.3234,  1.0787,  1.1571,  0.4060, -0.2083,  0.9794,  0.4084,\n",
      "          0.1711, -1.8167,  1.3251, -1.5447,  1.2962,  1.3718,  0.5467, -1.5970,\n",
      "          0.0704,  0.8596, -0.4514, -1.4083,  1.3476,  2.4039,  1.1029,  1.3793,\n",
      "          1.3571,  0.0979,  1.0640,  1.2075,  1.3074,  1.8680]],\n",
      "       requires_grad=True)\n",
      "epoch #1199, loss: 0.030426306650042534, weight: Parameter containing:\n",
      "tensor([[ 0.9228,  1.3307,  1.1149,  1.2000,  0.4309, -0.2585,  1.0056,  0.3932,\n",
      "          0.1839, -1.8991,  1.3794, -1.6415,  1.3498,  1.4666,  0.5452, -1.6790,\n",
      "          0.1021,  0.9149, -0.4335, -1.4724,  1.4242,  2.5605,  1.1750,  1.4657,\n",
      "          1.4349,  0.0625,  1.0647,  1.2636,  1.3193,  2.0448]],\n",
      "       requires_grad=True)\n",
      "epoch #1299, loss: 0.029149524867534637, weight: Parameter containing:\n",
      "tensor([[ 0.9594,  1.3341,  1.1501,  1.2417,  0.4576, -0.3091,  1.0315,  0.3755,\n",
      "          0.1957, -1.9770,  1.4315, -1.7363,  1.4012,  1.5608,  0.5414, -1.7574,\n",
      "          0.1353,  0.9708, -0.4112, -1.5389,  1.5016,  2.7174,  1.2478,  1.5527,\n",
      "          1.5112,  0.0238,  1.0603,  1.3194,  1.3255,  2.2248]],\n",
      "       requires_grad=True)\n",
      "epoch #1399, loss: 0.027945298701524734, weight: Parameter containing:\n",
      "tensor([[ 0.9952,  1.3341,  1.1844,  1.2825,  0.4857, -0.3599,  1.0574,  0.3553,\n",
      "          0.2069, -2.0512,  1.4817, -1.8294,  1.4507,  1.6545,  0.5358, -1.8327,\n",
      "          0.1700,  1.0272, -0.3855, -1.6085,  1.5800,  2.8748,  1.3213,  1.6403,\n",
      "          1.5861, -0.0179,  1.0515,  1.3751,  1.3270,  2.4077]],\n",
      "       requires_grad=True)\n",
      "epoch #1499, loss: 0.02680424228310585, weight: Parameter containing:\n",
      "tensor([[ 1.0303,  1.3315,  1.2179,  1.3223,  0.5151, -0.4109,  1.0834,  0.3328,\n",
      "          0.2179, -2.1218,  1.5304, -1.9211,  1.4987,  1.7480,  0.5291, -1.9050,\n",
      "          0.2065,  1.0840, -0.3570, -1.6816,  1.6594,  3.0330,  1.3957,  1.7286,\n",
      "          1.6595, -0.0623,  1.0388,  1.4307,  1.3246,  2.5933]],\n",
      "       requires_grad=True)\n",
      "epoch #1599, loss: 0.025719549506902695, weight: Parameter containing:\n",
      "tensor([[ 1.0648,  1.3265,  1.2507,  1.3612,  0.5457, -0.4622,  1.1096,  0.3081,\n",
      "          0.2290, -2.1894,  1.5778, -2.0118,  1.5453,  1.8410,  0.5217, -1.9745,\n",
      "          0.2446,  1.1414, -0.3264, -1.7586,  1.7399,  3.1920,  1.4709,  1.8175,\n",
      "          1.7314, -0.1090,  1.0227,  1.4865,  1.3190,  2.7810]],\n",
      "       requires_grad=True)\n",
      "epoch #1699, loss: 0.024686172604560852, weight: Parameter containing:\n",
      "tensor([[ 1.0989,  1.3199,  1.2827,  1.3993,  0.5773, -0.5136,  1.1362,  0.2812,\n",
      "          0.2406, -2.2540,  1.6243, -2.1018,  1.5906,  1.9338,  0.5139, -2.0413,\n",
      "          0.2845,  1.1992, -0.2944, -1.8396,  1.8216,  3.3521,  1.5471,  1.9071,\n",
      "          1.8019, -0.1577,  1.0035,  1.5426,  1.3109,  2.9706]],\n",
      "       requires_grad=True)\n",
      "epoch #1799, loss: 0.02370019629597664, weight: Parameter containing:\n",
      "tensor([[ 1.1325,  1.3118,  1.3142,  1.4367,  0.6098, -0.5652,  1.1633,  0.2523,\n",
      "          0.2529, -2.3160,  1.6700, -2.1912,  1.6349,  2.0263,  0.5062, -2.1056,\n",
      "          0.3260,  1.2574, -0.2616, -1.9250,  1.9045,  3.5133,  1.6241,  1.9973,\n",
      "          1.8709, -0.2081,  0.9816,  1.5990,  1.3009,  3.1616]],\n",
      "       requires_grad=True)\n",
      "epoch #1899, loss: 0.02275848388671875, weight: Parameter containing:\n",
      "tensor([[ 1.1657,  1.3027,  1.3450,  1.4733,  0.6430, -0.6169,  1.1908,  0.2215,\n",
      "          0.2662, -2.3754,  1.7153, -2.2803,  1.6784,  2.1185,  0.4988, -2.1673,\n",
      "          0.3690,  1.3159, -0.2287, -2.0149,  1.9887,  3.6756,  1.7020,  2.0881,\n",
      "          1.9383, -0.2600,  0.9574,  1.6558,  1.2896,  3.3539]],\n",
      "       requires_grad=True)\n",
      "epoch #1999, loss: 0.021858394145965576, weight: Parameter containing:\n",
      "tensor([[ 1.1985,  1.2929,  1.3753,  1.5091,  0.6768, -0.6687,  1.2189,  0.1888,\n",
      "          0.2807, -2.4323,  1.7604, -2.3693,  1.7210,  2.2104,  0.4921, -2.2266,\n",
      "          0.4136,  1.3747, -0.1960, -2.1092,  2.0741,  3.8393,  1.7807,  2.1794,\n",
      "          2.0043, -0.3130,  0.9311,  1.7130,  1.2773,  3.5469]],\n",
      "       requires_grad=True)\n"
     ]
    }
   ],
   "source": [
    "losses = list()\n",
    "epochs = 2000\n",
    "for i in range(epochs):\n",
    "    output = m(train_feats)\n",
    "    loss = criterion(output, train_y)\n",
    "    if (i + 1) % 70 == 0:\n",
    "        losses.append(loss.item())\n",
    "    if (i + 1) % 100 == 0 or i == epochs - 1:\n",
    "        print(f'epoch #{i}, loss: {loss}, weight: {m.output.weight}')\n",
    "    loss.backward()\n",
    "    optimizer.step()\n",
    "    optimizer.zero_grad()"
   ]
  },
  {
   "cell_type": "markdown",
   "id": "5936ae26",
   "metadata": {},
   "source": [
    "# Plot loss through all epochs"
   ]
  },
  {
   "cell_type": "code",
   "execution_count": 1316,
   "id": "7c7974bb",
   "metadata": {},
   "outputs": [
    {
     "data": {
      "image/png": "[encoded data removed]",
      "text/plain": [
       "<Figure size 432x288 with 1 Axes>"
      ]
     },
     "metadata": {
      "needs_background": "light"
     },
     "output_type": "display_data"
    }
   ],
   "source": [
    "from scipy.interpolate import make_interp_spline, BSpline\n",
    "x = np.linspace(0, 300, 28)\n",
    "y = losses\n",
    "x_new = np.linspace(x.min(), x.max(), 400)\n",
    "spl = make_interp_spline(x, y)\n",
    "y_smooth = spl(x_new)\n",
    "plt.plot(x_new, y_smooth)\n",
    "plt.xlabel('Epoch')\n",
    "plt.ylabel('BCE Loss')\n",
    "plt.show()"
   ]
  },
  {
   "cell_type": "markdown",
   "id": "0238b733",
   "metadata": {},
   "source": [
    "# Test accuracy against test set"
   ]
  },
  {
   "cell_type": "code",
   "execution_count": 1317,
   "id": "58d1eef4",
   "metadata": {},
   "outputs": [
    {
     "name": "stdout",
     "output_type": "stream",
     "text": [
      "Accuracy: 96.8%\n"
     ]
    }
   ],
   "source": [
    "with torch.no_grad():\n",
    "    y_pred=m(test_feats)\n",
    "    y_pred_class=y_pred.round()\n",
    "    accuracy=((y_pred_class == test_y).sum()) / 284\n",
    "    print(f'Accuracy: {round(accuracy.item() * 100, 1)}%')"
   ]
  },
  {
   "cell_type": "markdown",
   "id": "7994f52b",
   "metadata": {},
   "source": [
    "# Plot decision boundary"
   ]
  },
  {
   "cell_type": "code",
   "execution_count": 1318,
   "id": "e547fba9",
   "metadata": {},
   "outputs": [
    {
     "name": "stdout",
     "output_type": "stream",
     "text": [
      "284\n"
     ]
    },
    {
     "data": {
      "text/plain": [
       "<matplotlib.legend.Legend at 0x7fbd89d44a00>"
      ]
     },
     "execution_count": 1318,
     "metadata": {},
     "output_type": "execute_result"
    },
    {
     "data": {
      "image/png": "[encoded data removed]",
      "text/plain": [
       "<Figure size 432x288 with 1 Axes>"
      ]
     },
     "metadata": {
      "needs_background": "light"
     },
     "output_type": "display_data"
    }
   ],
   "source": [
    "s = list()\n",
    "b = list()\n",
    "for example, label in zip(data[:284], train_y):\n",
    "    val = np.sum(example)\n",
    "    if label == 1:\n",
    "        s.append(val)\n",
    "    else:\n",
    "        b.append(val)\n",
    "x = np.linspace(0, 300, len(s))\n",
    "print(len(r))\n",
    "colors = ['tab:cyan']\n",
    "plt.scatter(x, s, color = colors, label='Malignant')\n",
    "x = np.linspace(0, 300, len(b))\n",
    "colors = ['tab:purple']\n",
    "n = (torch.sum(m.output.weight) - m.output.weight[0] + m.output.weight[0]) / 30\n",
    "c = m.output.weight[0].detach().numpy()\n",
    "plt.scatter(x, b, color=colors, label='Benign')\n",
    "x = np.linspace(0, 300, 30)\n",
    "plt.plot(x, (n.detach().numpy() + m.output.bias[0].detach().numpy()), color = 'tab:orange', label='Decision Boundary')\n",
    "plt.xlabel('Index in Array')\n",
    "plt.ylabel('Sum of features')\n",
    "plt.legend()"
   ]
  }
 ],
 "metadata": {
  "kernelspec": {
   "display_name": "Python 3 (ipykernel)",
   "language": "python",
   "name": "python3"
  },
  "language_info": {
   "codemirror_mode": {
    "name": "ipython",
    "version": 3
   },
   "file_extension": ".py",
   "mimetype": "text/x-python",
   "name": "python",
   "nbconvert_exporter": "python",
   "pygments_lexer": "ipython3",
   "version": "3.9.12"
  }
 },
 "nbformat": 4,
 "nbformat_minor": 5
}
